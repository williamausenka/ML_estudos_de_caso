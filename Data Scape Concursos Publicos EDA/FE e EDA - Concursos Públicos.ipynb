{
 "cells": [
  {
   "cell_type": "code",
   "execution_count": 1,
   "id": "4a02df97",
   "metadata": {},
   "outputs": [],
   "source": [
    "import pandas as pd\n",
    "import numpy as np\n",
    "import matplotlib.pyplot as plt\n",
    "import seaborn as sns"
   ]
  },
  {
   "cell_type": "code",
   "execution_count": 2,
   "id": "350fb888",
   "metadata": {},
   "outputs": [],
   "source": [
    "df = pd.read_csv('data_cleaning_concursos_publicos_v2.csv')"
   ]
  },
  {
   "cell_type": "code",
   "execution_count": 3,
   "id": "cd63ef85",
   "metadata": {},
   "outputs": [
    {
     "data": {
      "text/html": [
       "<div>\n",
       "<style scoped>\n",
       "    .dataframe tbody tr th:only-of-type {\n",
       "        vertical-align: middle;\n",
       "    }\n",
       "\n",
       "    .dataframe tbody tr th {\n",
       "        vertical-align: top;\n",
       "    }\n",
       "\n",
       "    .dataframe thead th {\n",
       "        text-align: right;\n",
       "    }\n",
       "</style>\n",
       "<table border=\"1\" class=\"dataframe\">\n",
       "  <thead>\n",
       "    <tr style=\"text-align: right;\">\n",
       "      <th></th>\n",
       "      <th>Unnamed: 0</th>\n",
       "      <th>Instituto_Orgao</th>\n",
       "      <th>Vagas</th>\n",
       "      <th>Salario_Maximo</th>\n",
       "      <th>Escolaridade</th>\n",
       "      <th>Cidade</th>\n",
       "      <th>Estado</th>\n",
       "    </tr>\n",
       "  </thead>\n",
       "  <tbody>\n",
       "    <tr>\n",
       "      <th>0</th>\n",
       "      <td>0</td>\n",
       "      <td>Prefeitura de Boca do Acre (AM)</td>\n",
       "      <td>326.0</td>\n",
       "      <td>3400.00</td>\n",
       "      <td>fundamental, médio e superior</td>\n",
       "      <td>boca do acre</td>\n",
       "      <td>amazonas</td>\n",
       "    </tr>\n",
       "    <tr>\n",
       "      <th>1</th>\n",
       "      <td>1</td>\n",
       "      <td>Câmara de Tunápolis</td>\n",
       "      <td>1.0</td>\n",
       "      <td>1789.92</td>\n",
       "      <td>superior</td>\n",
       "      <td>tunápolis</td>\n",
       "      <td>santa catarina</td>\n",
       "    </tr>\n",
       "    <tr>\n",
       "      <th>2</th>\n",
       "      <td>2</td>\n",
       "      <td>Prefeitura de Ouroeste (SP)</td>\n",
       "      <td>31.0</td>\n",
       "      <td>2992.36</td>\n",
       "      <td>fundamental, médio e superior</td>\n",
       "      <td>ouroeste</td>\n",
       "      <td>são paulo</td>\n",
       "    </tr>\n",
       "    <tr>\n",
       "      <th>3</th>\n",
       "      <td>3</td>\n",
       "      <td>Prefeitura de Olinda (PE)</td>\n",
       "      <td>230.0</td>\n",
       "      <td>3867.47</td>\n",
       "      <td>superior</td>\n",
       "      <td>olinda</td>\n",
       "      <td>pernambuco</td>\n",
       "    </tr>\n",
       "    <tr>\n",
       "      <th>4</th>\n",
       "      <td>4</td>\n",
       "      <td>Prefeitura de Olinda (PE)</td>\n",
       "      <td>230.0</td>\n",
       "      <td>3867.47</td>\n",
       "      <td>superior</td>\n",
       "      <td>olinda</td>\n",
       "      <td>pernambuco</td>\n",
       "    </tr>\n",
       "    <tr>\n",
       "      <th>...</th>\n",
       "      <td>...</td>\n",
       "      <td>...</td>\n",
       "      <td>...</td>\n",
       "      <td>...</td>\n",
       "      <td>...</td>\n",
       "      <td>...</td>\n",
       "      <td>...</td>\n",
       "    </tr>\n",
       "    <tr>\n",
       "      <th>162</th>\n",
       "      <td>166</td>\n",
       "      <td>Prefeitura de Bertioga (SP)</td>\n",
       "      <td>100.0</td>\n",
       "      <td>2513.07</td>\n",
       "      <td>médio</td>\n",
       "      <td>bertioga</td>\n",
       "      <td>são paulo</td>\n",
       "    </tr>\n",
       "    <tr>\n",
       "      <th>163</th>\n",
       "      <td>167</td>\n",
       "      <td>Prefeitura de Palmas (TO)</td>\n",
       "      <td>50.0</td>\n",
       "      <td>3440.77</td>\n",
       "      <td>médio</td>\n",
       "      <td>palmas</td>\n",
       "      <td>tocantins</td>\n",
       "    </tr>\n",
       "    <tr>\n",
       "      <th>164</th>\n",
       "      <td>168</td>\n",
       "      <td>Fundação Estadual de Proteção Ambiental Henriq...</td>\n",
       "      <td>56.0</td>\n",
       "      <td>6646.96</td>\n",
       "      <td>médio, técnico e superior</td>\n",
       "      <td>várias cidades</td>\n",
       "      <td>rio grande do sul</td>\n",
       "    </tr>\n",
       "    <tr>\n",
       "      <th>165</th>\n",
       "      <td>169</td>\n",
       "      <td>Prefeitura de Capivari (SP)</td>\n",
       "      <td>57.0</td>\n",
       "      <td>15519.11</td>\n",
       "      <td>fundamental, médio e superior</td>\n",
       "      <td>capivari</td>\n",
       "      <td>são paulo</td>\n",
       "    </tr>\n",
       "    <tr>\n",
       "      <th>166</th>\n",
       "      <td>170</td>\n",
       "      <td>Instituto Federal do Sul de Minas</td>\n",
       "      <td>4.0</td>\n",
       "      <td>9616.18</td>\n",
       "      <td>superior</td>\n",
       "      <td>pouso alegre, passos e poços de caldas</td>\n",
       "      <td>minas gerais</td>\n",
       "    </tr>\n",
       "  </tbody>\n",
       "</table>\n",
       "<p>167 rows × 7 columns</p>\n",
       "</div>"
      ],
      "text/plain": [
       "     Unnamed: 0                                    Instituto_Orgao  Vagas  \\\n",
       "0             0                    Prefeitura de Boca do Acre (AM)  326.0   \n",
       "1             1                                Câmara de Tunápolis    1.0   \n",
       "2             2                        Prefeitura de Ouroeste (SP)   31.0   \n",
       "3             3                          Prefeitura de Olinda (PE)  230.0   \n",
       "4             4                          Prefeitura de Olinda (PE)  230.0   \n",
       "..          ...                                                ...    ...   \n",
       "162         166                        Prefeitura de Bertioga (SP)  100.0   \n",
       "163         167                          Prefeitura de Palmas (TO)   50.0   \n",
       "164         168  Fundação Estadual de Proteção Ambiental Henriq...   56.0   \n",
       "165         169                        Prefeitura de Capivari (SP)   57.0   \n",
       "166         170                  Instituto Federal do Sul de Minas    4.0   \n",
       "\n",
       "     Salario_Maximo                   Escolaridade  \\\n",
       "0           3400.00  fundamental, médio e superior   \n",
       "1           1789.92                       superior   \n",
       "2           2992.36  fundamental, médio e superior   \n",
       "3           3867.47                       superior   \n",
       "4           3867.47                       superior   \n",
       "..              ...                            ...   \n",
       "162         2513.07                          médio   \n",
       "163         3440.77                          médio   \n",
       "164         6646.96      médio, técnico e superior   \n",
       "165        15519.11  fundamental, médio e superior   \n",
       "166         9616.18                       superior   \n",
       "\n",
       "                                     Cidade             Estado  \n",
       "0                              boca do acre           amazonas  \n",
       "1                                 tunápolis     santa catarina  \n",
       "2                                  ouroeste          são paulo  \n",
       "3                                    olinda         pernambuco  \n",
       "4                                    olinda         pernambuco  \n",
       "..                                      ...                ...  \n",
       "162                                bertioga          são paulo  \n",
       "163                                  palmas          tocantins  \n",
       "164                          várias cidades  rio grande do sul  \n",
       "165                                capivari          são paulo  \n",
       "166  pouso alegre, passos e poços de caldas       minas gerais  \n",
       "\n",
       "[167 rows x 7 columns]"
      ]
     },
     "execution_count": 3,
     "metadata": {},
     "output_type": "execute_result"
    }
   ],
   "source": [
    "df"
   ]
  },
  {
   "cell_type": "code",
   "execution_count": 4,
   "id": "fcf394bd",
   "metadata": {},
   "outputs": [],
   "source": [
    "df.drop(['Unnamed: 0'], inplace=True, axis=1)"
   ]
  },
  {
   "cell_type": "code",
   "execution_count": 5,
   "id": "ce01b7a4",
   "metadata": {},
   "outputs": [
    {
     "data": {
      "text/html": [
       "<div>\n",
       "<style scoped>\n",
       "    .dataframe tbody tr th:only-of-type {\n",
       "        vertical-align: middle;\n",
       "    }\n",
       "\n",
       "    .dataframe tbody tr th {\n",
       "        vertical-align: top;\n",
       "    }\n",
       "\n",
       "    .dataframe thead th {\n",
       "        text-align: right;\n",
       "    }\n",
       "</style>\n",
       "<table border=\"1\" class=\"dataframe\">\n",
       "  <thead>\n",
       "    <tr style=\"text-align: right;\">\n",
       "      <th></th>\n",
       "      <th>Instituto_Orgao</th>\n",
       "      <th>Vagas</th>\n",
       "      <th>Salario_Maximo</th>\n",
       "      <th>Escolaridade</th>\n",
       "      <th>Cidade</th>\n",
       "      <th>Estado</th>\n",
       "    </tr>\n",
       "  </thead>\n",
       "  <tbody>\n",
       "    <tr>\n",
       "      <th>0</th>\n",
       "      <td>Prefeitura de Boca do Acre (AM)</td>\n",
       "      <td>326.0</td>\n",
       "      <td>3400.00</td>\n",
       "      <td>fundamental, médio e superior</td>\n",
       "      <td>boca do acre</td>\n",
       "      <td>amazonas</td>\n",
       "    </tr>\n",
       "    <tr>\n",
       "      <th>1</th>\n",
       "      <td>Câmara de Tunápolis</td>\n",
       "      <td>1.0</td>\n",
       "      <td>1789.92</td>\n",
       "      <td>superior</td>\n",
       "      <td>tunápolis</td>\n",
       "      <td>santa catarina</td>\n",
       "    </tr>\n",
       "    <tr>\n",
       "      <th>2</th>\n",
       "      <td>Prefeitura de Ouroeste (SP)</td>\n",
       "      <td>31.0</td>\n",
       "      <td>2992.36</td>\n",
       "      <td>fundamental, médio e superior</td>\n",
       "      <td>ouroeste</td>\n",
       "      <td>são paulo</td>\n",
       "    </tr>\n",
       "    <tr>\n",
       "      <th>3</th>\n",
       "      <td>Prefeitura de Olinda (PE)</td>\n",
       "      <td>230.0</td>\n",
       "      <td>3867.47</td>\n",
       "      <td>superior</td>\n",
       "      <td>olinda</td>\n",
       "      <td>pernambuco</td>\n",
       "    </tr>\n",
       "    <tr>\n",
       "      <th>4</th>\n",
       "      <td>Prefeitura de Olinda (PE)</td>\n",
       "      <td>230.0</td>\n",
       "      <td>3867.47</td>\n",
       "      <td>superior</td>\n",
       "      <td>olinda</td>\n",
       "      <td>pernambuco</td>\n",
       "    </tr>\n",
       "    <tr>\n",
       "      <th>...</th>\n",
       "      <td>...</td>\n",
       "      <td>...</td>\n",
       "      <td>...</td>\n",
       "      <td>...</td>\n",
       "      <td>...</td>\n",
       "      <td>...</td>\n",
       "    </tr>\n",
       "    <tr>\n",
       "      <th>162</th>\n",
       "      <td>Prefeitura de Bertioga (SP)</td>\n",
       "      <td>100.0</td>\n",
       "      <td>2513.07</td>\n",
       "      <td>médio</td>\n",
       "      <td>bertioga</td>\n",
       "      <td>são paulo</td>\n",
       "    </tr>\n",
       "    <tr>\n",
       "      <th>163</th>\n",
       "      <td>Prefeitura de Palmas (TO)</td>\n",
       "      <td>50.0</td>\n",
       "      <td>3440.77</td>\n",
       "      <td>médio</td>\n",
       "      <td>palmas</td>\n",
       "      <td>tocantins</td>\n",
       "    </tr>\n",
       "    <tr>\n",
       "      <th>164</th>\n",
       "      <td>Fundação Estadual de Proteção Ambiental Henriq...</td>\n",
       "      <td>56.0</td>\n",
       "      <td>6646.96</td>\n",
       "      <td>médio, técnico e superior</td>\n",
       "      <td>várias cidades</td>\n",
       "      <td>rio grande do sul</td>\n",
       "    </tr>\n",
       "    <tr>\n",
       "      <th>165</th>\n",
       "      <td>Prefeitura de Capivari (SP)</td>\n",
       "      <td>57.0</td>\n",
       "      <td>15519.11</td>\n",
       "      <td>fundamental, médio e superior</td>\n",
       "      <td>capivari</td>\n",
       "      <td>são paulo</td>\n",
       "    </tr>\n",
       "    <tr>\n",
       "      <th>166</th>\n",
       "      <td>Instituto Federal do Sul de Minas</td>\n",
       "      <td>4.0</td>\n",
       "      <td>9616.18</td>\n",
       "      <td>superior</td>\n",
       "      <td>pouso alegre, passos e poços de caldas</td>\n",
       "      <td>minas gerais</td>\n",
       "    </tr>\n",
       "  </tbody>\n",
       "</table>\n",
       "<p>167 rows × 6 columns</p>\n",
       "</div>"
      ],
      "text/plain": [
       "                                       Instituto_Orgao  Vagas  Salario_Maximo  \\\n",
       "0                      Prefeitura de Boca do Acre (AM)  326.0         3400.00   \n",
       "1                                  Câmara de Tunápolis    1.0         1789.92   \n",
       "2                          Prefeitura de Ouroeste (SP)   31.0         2992.36   \n",
       "3                            Prefeitura de Olinda (PE)  230.0         3867.47   \n",
       "4                            Prefeitura de Olinda (PE)  230.0         3867.47   \n",
       "..                                                 ...    ...             ...   \n",
       "162                        Prefeitura de Bertioga (SP)  100.0         2513.07   \n",
       "163                          Prefeitura de Palmas (TO)   50.0         3440.77   \n",
       "164  Fundação Estadual de Proteção Ambiental Henriq...   56.0         6646.96   \n",
       "165                        Prefeitura de Capivari (SP)   57.0        15519.11   \n",
       "166                  Instituto Federal do Sul de Minas    4.0         9616.18   \n",
       "\n",
       "                      Escolaridade                                  Cidade  \\\n",
       "0    fundamental, médio e superior                            boca do acre   \n",
       "1                         superior                               tunápolis   \n",
       "2    fundamental, médio e superior                                ouroeste   \n",
       "3                         superior                                  olinda   \n",
       "4                         superior                                  olinda   \n",
       "..                             ...                                     ...   \n",
       "162                          médio                                bertioga   \n",
       "163                          médio                                  palmas   \n",
       "164      médio, técnico e superior                          várias cidades   \n",
       "165  fundamental, médio e superior                                capivari   \n",
       "166                       superior  pouso alegre, passos e poços de caldas   \n",
       "\n",
       "                Estado  \n",
       "0             amazonas  \n",
       "1       santa catarina  \n",
       "2            são paulo  \n",
       "3           pernambuco  \n",
       "4           pernambuco  \n",
       "..                 ...  \n",
       "162          são paulo  \n",
       "163          tocantins  \n",
       "164  rio grande do sul  \n",
       "165          são paulo  \n",
       "166       minas gerais  \n",
       "\n",
       "[167 rows x 6 columns]"
      ]
     },
     "execution_count": 5,
     "metadata": {},
     "output_type": "execute_result"
    }
   ],
   "source": [
    "df"
   ]
  },
  {
   "cell_type": "code",
   "execution_count": 6,
   "id": "fe67bd58",
   "metadata": {},
   "outputs": [
    {
     "data": {
      "text/plain": [
       "array(['fundamental, médio e superior', 'superior', 'médio e superior',\n",
       "       'fundamental, médio, técnico e superior',\n",
       "       'médio, técnico e superior', 'médio, superior e magistério',\n",
       "       'fundamental e médio', 'doutorado', 'médio',\n",
       "       'fundamental e superior', 'técnico e superior', 'médio e técnico',\n",
       "       'fundamental', 'médio , superior', 'médio, superior e doutorado',\n",
       "       'fundamental , superior',\n",
       "       'alfabetizado, fundamental, médio e superior'], dtype=object)"
      ]
     },
     "execution_count": 6,
     "metadata": {},
     "output_type": "execute_result"
    }
   ],
   "source": [
    "df['Escolaridade'].unique()"
   ]
  },
  {
   "cell_type": "code",
   "execution_count": 7,
   "id": "4493cff9",
   "metadata": {},
   "outputs": [],
   "source": [
    "esc_df = df.copy()"
   ]
  },
  {
   "cell_type": "code",
   "execution_count": 8,
   "id": "135f221a",
   "metadata": {},
   "outputs": [],
   "source": []
  },
  {
   "cell_type": "code",
   "execution_count": 9,
   "id": "aec98530",
   "metadata": {},
   "outputs": [
    {
     "data": {
      "text/html": [
       "<div>\n",
       "<style scoped>\n",
       "    .dataframe tbody tr th:only-of-type {\n",
       "        vertical-align: middle;\n",
       "    }\n",
       "\n",
       "    .dataframe tbody tr th {\n",
       "        vertical-align: top;\n",
       "    }\n",
       "\n",
       "    .dataframe thead th {\n",
       "        text-align: right;\n",
       "    }\n",
       "</style>\n",
       "<table border=\"1\" class=\"dataframe\">\n",
       "  <thead>\n",
       "    <tr style=\"text-align: right;\">\n",
       "      <th></th>\n",
       "      <th>Instituto_Orgao</th>\n",
       "      <th>Vagas</th>\n",
       "      <th>Salario_Maximo</th>\n",
       "      <th>Escolaridade</th>\n",
       "      <th>Cidade</th>\n",
       "      <th>Estado</th>\n",
       "    </tr>\n",
       "  </thead>\n",
       "  <tbody>\n",
       "    <tr>\n",
       "      <th>0</th>\n",
       "      <td>Prefeitura de Boca do Acre (AM)</td>\n",
       "      <td>326.0</td>\n",
       "      <td>3400.00</td>\n",
       "      <td>fundamental, médio e superior</td>\n",
       "      <td>boca do acre</td>\n",
       "      <td>amazonas</td>\n",
       "    </tr>\n",
       "    <tr>\n",
       "      <th>1</th>\n",
       "      <td>Câmara de Tunápolis</td>\n",
       "      <td>1.0</td>\n",
       "      <td>1789.92</td>\n",
       "      <td>superior</td>\n",
       "      <td>tunápolis</td>\n",
       "      <td>santa catarina</td>\n",
       "    </tr>\n",
       "    <tr>\n",
       "      <th>2</th>\n",
       "      <td>Prefeitura de Ouroeste (SP)</td>\n",
       "      <td>31.0</td>\n",
       "      <td>2992.36</td>\n",
       "      <td>fundamental, médio e superior</td>\n",
       "      <td>ouroeste</td>\n",
       "      <td>são paulo</td>\n",
       "    </tr>\n",
       "    <tr>\n",
       "      <th>3</th>\n",
       "      <td>Prefeitura de Olinda (PE)</td>\n",
       "      <td>230.0</td>\n",
       "      <td>3867.47</td>\n",
       "      <td>superior</td>\n",
       "      <td>olinda</td>\n",
       "      <td>pernambuco</td>\n",
       "    </tr>\n",
       "    <tr>\n",
       "      <th>4</th>\n",
       "      <td>Prefeitura de Olinda (PE)</td>\n",
       "      <td>230.0</td>\n",
       "      <td>3867.47</td>\n",
       "      <td>superior</td>\n",
       "      <td>olinda</td>\n",
       "      <td>pernambuco</td>\n",
       "    </tr>\n",
       "    <tr>\n",
       "      <th>...</th>\n",
       "      <td>...</td>\n",
       "      <td>...</td>\n",
       "      <td>...</td>\n",
       "      <td>...</td>\n",
       "      <td>...</td>\n",
       "      <td>...</td>\n",
       "    </tr>\n",
       "    <tr>\n",
       "      <th>162</th>\n",
       "      <td>Prefeitura de Bertioga (SP)</td>\n",
       "      <td>100.0</td>\n",
       "      <td>2513.07</td>\n",
       "      <td>médio</td>\n",
       "      <td>bertioga</td>\n",
       "      <td>são paulo</td>\n",
       "    </tr>\n",
       "    <tr>\n",
       "      <th>163</th>\n",
       "      <td>Prefeitura de Palmas (TO)</td>\n",
       "      <td>50.0</td>\n",
       "      <td>3440.77</td>\n",
       "      <td>médio</td>\n",
       "      <td>palmas</td>\n",
       "      <td>tocantins</td>\n",
       "    </tr>\n",
       "    <tr>\n",
       "      <th>164</th>\n",
       "      <td>Fundação Estadual de Proteção Ambiental Henriq...</td>\n",
       "      <td>56.0</td>\n",
       "      <td>6646.96</td>\n",
       "      <td>médio, técnico e superior</td>\n",
       "      <td>várias cidades</td>\n",
       "      <td>rio grande do sul</td>\n",
       "    </tr>\n",
       "    <tr>\n",
       "      <th>165</th>\n",
       "      <td>Prefeitura de Capivari (SP)</td>\n",
       "      <td>57.0</td>\n",
       "      <td>15519.11</td>\n",
       "      <td>fundamental, médio e superior</td>\n",
       "      <td>capivari</td>\n",
       "      <td>são paulo</td>\n",
       "    </tr>\n",
       "    <tr>\n",
       "      <th>166</th>\n",
       "      <td>Instituto Federal do Sul de Minas</td>\n",
       "      <td>4.0</td>\n",
       "      <td>9616.18</td>\n",
       "      <td>superior</td>\n",
       "      <td>pouso alegre, passos e poços de caldas</td>\n",
       "      <td>minas gerais</td>\n",
       "    </tr>\n",
       "  </tbody>\n",
       "</table>\n",
       "<p>167 rows × 6 columns</p>\n",
       "</div>"
      ],
      "text/plain": [
       "                                       Instituto_Orgao  Vagas  Salario_Maximo  \\\n",
       "0                      Prefeitura de Boca do Acre (AM)  326.0         3400.00   \n",
       "1                                  Câmara de Tunápolis    1.0         1789.92   \n",
       "2                          Prefeitura de Ouroeste (SP)   31.0         2992.36   \n",
       "3                            Prefeitura de Olinda (PE)  230.0         3867.47   \n",
       "4                            Prefeitura de Olinda (PE)  230.0         3867.47   \n",
       "..                                                 ...    ...             ...   \n",
       "162                        Prefeitura de Bertioga (SP)  100.0         2513.07   \n",
       "163                          Prefeitura de Palmas (TO)   50.0         3440.77   \n",
       "164  Fundação Estadual de Proteção Ambiental Henriq...   56.0         6646.96   \n",
       "165                        Prefeitura de Capivari (SP)   57.0        15519.11   \n",
       "166                  Instituto Federal do Sul de Minas    4.0         9616.18   \n",
       "\n",
       "                      Escolaridade                                  Cidade  \\\n",
       "0    fundamental, médio e superior                            boca do acre   \n",
       "1                         superior                               tunápolis   \n",
       "2    fundamental, médio e superior                                ouroeste   \n",
       "3                         superior                                  olinda   \n",
       "4                         superior                                  olinda   \n",
       "..                             ...                                     ...   \n",
       "162                          médio                                bertioga   \n",
       "163                          médio                                  palmas   \n",
       "164      médio, técnico e superior                          várias cidades   \n",
       "165  fundamental, médio e superior                                capivari   \n",
       "166                       superior  pouso alegre, passos e poços de caldas   \n",
       "\n",
       "                Estado  \n",
       "0             amazonas  \n",
       "1       santa catarina  \n",
       "2            são paulo  \n",
       "3           pernambuco  \n",
       "4           pernambuco  \n",
       "..                 ...  \n",
       "162          são paulo  \n",
       "163          tocantins  \n",
       "164  rio grande do sul  \n",
       "165          são paulo  \n",
       "166       minas gerais  \n",
       "\n",
       "[167 rows x 6 columns]"
      ]
     },
     "execution_count": 9,
     "metadata": {},
     "output_type": "execute_result"
    }
   ],
   "source": [
    "esc_df"
   ]
  },
  {
   "cell_type": "code",
   "execution_count": 10,
   "id": "652d86da",
   "metadata": {},
   "outputs": [],
   "source": [
    "def dummies(texto):\n",
    "    if 'magistério' in texto:\n",
    "        texto = texto.replace(texto, '6')\n",
    "        return texto\n",
    "    elif 'doutorado' in texto:\n",
    "        texto = texto.replace(texto, '5')\n",
    "        return texto\n",
    "    if 'superior' in texto:\n",
    "        texto = texto.replace(texto, '4')\n",
    "        return texto\n",
    "    elif 'técnico' in texto:\n",
    "        texto = texto.replace(texto, '3')\n",
    "        return texto   \n",
    "    elif 'médio' in texto:\n",
    "        texto = texto.replace(texto, '2')\n",
    "        return texto   \n",
    "    elif 'fundamental' in texto:\n",
    "        texto = texto.replace(texto, '1')\n",
    "        return texto   "
   ]
  },
  {
   "cell_type": "code",
   "execution_count": 11,
   "id": "93e0ac8a",
   "metadata": {},
   "outputs": [],
   "source": [
    "func1 = lambda x: dummies(x)\n",
    "esc_df['Escolaridade'] = esc_df['Escolaridade'].apply(func1)    \n",
    "    "
   ]
  },
  {
   "cell_type": "code",
   "execution_count": 12,
   "id": "70a8a595",
   "metadata": {},
   "outputs": [
    {
     "data": {
      "text/html": [
       "<div>\n",
       "<style scoped>\n",
       "    .dataframe tbody tr th:only-of-type {\n",
       "        vertical-align: middle;\n",
       "    }\n",
       "\n",
       "    .dataframe tbody tr th {\n",
       "        vertical-align: top;\n",
       "    }\n",
       "\n",
       "    .dataframe thead th {\n",
       "        text-align: right;\n",
       "    }\n",
       "</style>\n",
       "<table border=\"1\" class=\"dataframe\">\n",
       "  <thead>\n",
       "    <tr style=\"text-align: right;\">\n",
       "      <th></th>\n",
       "      <th>Instituto_Orgao</th>\n",
       "      <th>Vagas</th>\n",
       "      <th>Salario_Maximo</th>\n",
       "      <th>Escolaridade</th>\n",
       "      <th>Cidade</th>\n",
       "      <th>Estado</th>\n",
       "    </tr>\n",
       "  </thead>\n",
       "  <tbody>\n",
       "    <tr>\n",
       "      <th>0</th>\n",
       "      <td>Prefeitura de Boca do Acre (AM)</td>\n",
       "      <td>326.0</td>\n",
       "      <td>3400.00</td>\n",
       "      <td>4</td>\n",
       "      <td>boca do acre</td>\n",
       "      <td>amazonas</td>\n",
       "    </tr>\n",
       "    <tr>\n",
       "      <th>1</th>\n",
       "      <td>Câmara de Tunápolis</td>\n",
       "      <td>1.0</td>\n",
       "      <td>1789.92</td>\n",
       "      <td>4</td>\n",
       "      <td>tunápolis</td>\n",
       "      <td>santa catarina</td>\n",
       "    </tr>\n",
       "    <tr>\n",
       "      <th>2</th>\n",
       "      <td>Prefeitura de Ouroeste (SP)</td>\n",
       "      <td>31.0</td>\n",
       "      <td>2992.36</td>\n",
       "      <td>4</td>\n",
       "      <td>ouroeste</td>\n",
       "      <td>são paulo</td>\n",
       "    </tr>\n",
       "    <tr>\n",
       "      <th>3</th>\n",
       "      <td>Prefeitura de Olinda (PE)</td>\n",
       "      <td>230.0</td>\n",
       "      <td>3867.47</td>\n",
       "      <td>4</td>\n",
       "      <td>olinda</td>\n",
       "      <td>pernambuco</td>\n",
       "    </tr>\n",
       "    <tr>\n",
       "      <th>4</th>\n",
       "      <td>Prefeitura de Olinda (PE)</td>\n",
       "      <td>230.0</td>\n",
       "      <td>3867.47</td>\n",
       "      <td>4</td>\n",
       "      <td>olinda</td>\n",
       "      <td>pernambuco</td>\n",
       "    </tr>\n",
       "    <tr>\n",
       "      <th>...</th>\n",
       "      <td>...</td>\n",
       "      <td>...</td>\n",
       "      <td>...</td>\n",
       "      <td>...</td>\n",
       "      <td>...</td>\n",
       "      <td>...</td>\n",
       "    </tr>\n",
       "    <tr>\n",
       "      <th>162</th>\n",
       "      <td>Prefeitura de Bertioga (SP)</td>\n",
       "      <td>100.0</td>\n",
       "      <td>2513.07</td>\n",
       "      <td>2</td>\n",
       "      <td>bertioga</td>\n",
       "      <td>são paulo</td>\n",
       "    </tr>\n",
       "    <tr>\n",
       "      <th>163</th>\n",
       "      <td>Prefeitura de Palmas (TO)</td>\n",
       "      <td>50.0</td>\n",
       "      <td>3440.77</td>\n",
       "      <td>2</td>\n",
       "      <td>palmas</td>\n",
       "      <td>tocantins</td>\n",
       "    </tr>\n",
       "    <tr>\n",
       "      <th>164</th>\n",
       "      <td>Fundação Estadual de Proteção Ambiental Henriq...</td>\n",
       "      <td>56.0</td>\n",
       "      <td>6646.96</td>\n",
       "      <td>4</td>\n",
       "      <td>várias cidades</td>\n",
       "      <td>rio grande do sul</td>\n",
       "    </tr>\n",
       "    <tr>\n",
       "      <th>165</th>\n",
       "      <td>Prefeitura de Capivari (SP)</td>\n",
       "      <td>57.0</td>\n",
       "      <td>15519.11</td>\n",
       "      <td>4</td>\n",
       "      <td>capivari</td>\n",
       "      <td>são paulo</td>\n",
       "    </tr>\n",
       "    <tr>\n",
       "      <th>166</th>\n",
       "      <td>Instituto Federal do Sul de Minas</td>\n",
       "      <td>4.0</td>\n",
       "      <td>9616.18</td>\n",
       "      <td>4</td>\n",
       "      <td>pouso alegre, passos e poços de caldas</td>\n",
       "      <td>minas gerais</td>\n",
       "    </tr>\n",
       "  </tbody>\n",
       "</table>\n",
       "<p>167 rows × 6 columns</p>\n",
       "</div>"
      ],
      "text/plain": [
       "                                       Instituto_Orgao  Vagas  Salario_Maximo  \\\n",
       "0                      Prefeitura de Boca do Acre (AM)  326.0         3400.00   \n",
       "1                                  Câmara de Tunápolis    1.0         1789.92   \n",
       "2                          Prefeitura de Ouroeste (SP)   31.0         2992.36   \n",
       "3                            Prefeitura de Olinda (PE)  230.0         3867.47   \n",
       "4                            Prefeitura de Olinda (PE)  230.0         3867.47   \n",
       "..                                                 ...    ...             ...   \n",
       "162                        Prefeitura de Bertioga (SP)  100.0         2513.07   \n",
       "163                          Prefeitura de Palmas (TO)   50.0         3440.77   \n",
       "164  Fundação Estadual de Proteção Ambiental Henriq...   56.0         6646.96   \n",
       "165                        Prefeitura de Capivari (SP)   57.0        15519.11   \n",
       "166                  Instituto Federal do Sul de Minas    4.0         9616.18   \n",
       "\n",
       "    Escolaridade                                  Cidade             Estado  \n",
       "0              4                            boca do acre           amazonas  \n",
       "1              4                               tunápolis     santa catarina  \n",
       "2              4                                ouroeste          são paulo  \n",
       "3              4                                  olinda         pernambuco  \n",
       "4              4                                  olinda         pernambuco  \n",
       "..           ...                                     ...                ...  \n",
       "162            2                                bertioga          são paulo  \n",
       "163            2                                  palmas          tocantins  \n",
       "164            4                          várias cidades  rio grande do sul  \n",
       "165            4                                capivari          são paulo  \n",
       "166            4  pouso alegre, passos e poços de caldas       minas gerais  \n",
       "\n",
       "[167 rows x 6 columns]"
      ]
     },
     "execution_count": 12,
     "metadata": {},
     "output_type": "execute_result"
    }
   ],
   "source": [
    "esc_df"
   ]
  },
  {
   "cell_type": "code",
   "execution_count": 13,
   "id": "b1071cb0",
   "metadata": {},
   "outputs": [],
   "source": [
    "def regiao(estado):\n",
    "    \n",
    "    nordeste = ['alagoas', 'bahia', 'ceará', 'paraíba', 'pernambuco', 'rio grande do norte', 'sergipe']\n",
    "    norte = ['amazonas', 'pará', 'tocantins']\n",
    "    co = ['distrito federal', 'goiás', 'mato grosso', 'mato grosso do sul']\n",
    "    sudeste = ['espírito santo', 'minas gerais', 'rio de janeiro', 'são paulo']\n",
    "    sul = ['paraná', 'rio grande do sul', 'santa catarina']\n",
    "    \n",
    "    if estado in nordeste:\n",
    "        return 'NORDESTE'\n",
    "    elif estado in norte:\n",
    "        return 'NORTE'\n",
    "    elif estado in co:\n",
    "        return 'CENTRO-OESTE'\n",
    "    elif estado in sudeste:\n",
    "        return 'SUDESTE'\n",
    "    elif estado in sul:\n",
    "        return 'SUL'\n",
    "    return None"
   ]
  },
  {
   "cell_type": "code",
   "execution_count": 14,
   "id": "1d82dbb2",
   "metadata": {},
   "outputs": [],
   "source": [
    "esc_df['Regiao'] = esc_df.apply(lambda x :regiao(x['Estado']), axis=1)"
   ]
  },
  {
   "cell_type": "code",
   "execution_count": 15,
   "id": "17edf46b",
   "metadata": {},
   "outputs": [
    {
     "data": {
      "text/html": [
       "<div>\n",
       "<style scoped>\n",
       "    .dataframe tbody tr th:only-of-type {\n",
       "        vertical-align: middle;\n",
       "    }\n",
       "\n",
       "    .dataframe tbody tr th {\n",
       "        vertical-align: top;\n",
       "    }\n",
       "\n",
       "    .dataframe thead th {\n",
       "        text-align: right;\n",
       "    }\n",
       "</style>\n",
       "<table border=\"1\" class=\"dataframe\">\n",
       "  <thead>\n",
       "    <tr style=\"text-align: right;\">\n",
       "      <th></th>\n",
       "      <th>Instituto_Orgao</th>\n",
       "      <th>Vagas</th>\n",
       "      <th>Salario_Maximo</th>\n",
       "      <th>Escolaridade</th>\n",
       "      <th>Cidade</th>\n",
       "      <th>Estado</th>\n",
       "      <th>Regiao</th>\n",
       "    </tr>\n",
       "  </thead>\n",
       "  <tbody>\n",
       "    <tr>\n",
       "      <th>0</th>\n",
       "      <td>Prefeitura de Boca do Acre (AM)</td>\n",
       "      <td>326.0</td>\n",
       "      <td>3400.00</td>\n",
       "      <td>4</td>\n",
       "      <td>boca do acre</td>\n",
       "      <td>amazonas</td>\n",
       "      <td>NORTE</td>\n",
       "    </tr>\n",
       "    <tr>\n",
       "      <th>1</th>\n",
       "      <td>Câmara de Tunápolis</td>\n",
       "      <td>1.0</td>\n",
       "      <td>1789.92</td>\n",
       "      <td>4</td>\n",
       "      <td>tunápolis</td>\n",
       "      <td>santa catarina</td>\n",
       "      <td>SUL</td>\n",
       "    </tr>\n",
       "    <tr>\n",
       "      <th>2</th>\n",
       "      <td>Prefeitura de Ouroeste (SP)</td>\n",
       "      <td>31.0</td>\n",
       "      <td>2992.36</td>\n",
       "      <td>4</td>\n",
       "      <td>ouroeste</td>\n",
       "      <td>são paulo</td>\n",
       "      <td>SUDESTE</td>\n",
       "    </tr>\n",
       "    <tr>\n",
       "      <th>3</th>\n",
       "      <td>Prefeitura de Olinda (PE)</td>\n",
       "      <td>230.0</td>\n",
       "      <td>3867.47</td>\n",
       "      <td>4</td>\n",
       "      <td>olinda</td>\n",
       "      <td>pernambuco</td>\n",
       "      <td>NORDESTE</td>\n",
       "    </tr>\n",
       "    <tr>\n",
       "      <th>4</th>\n",
       "      <td>Prefeitura de Olinda (PE)</td>\n",
       "      <td>230.0</td>\n",
       "      <td>3867.47</td>\n",
       "      <td>4</td>\n",
       "      <td>olinda</td>\n",
       "      <td>pernambuco</td>\n",
       "      <td>NORDESTE</td>\n",
       "    </tr>\n",
       "    <tr>\n",
       "      <th>...</th>\n",
       "      <td>...</td>\n",
       "      <td>...</td>\n",
       "      <td>...</td>\n",
       "      <td>...</td>\n",
       "      <td>...</td>\n",
       "      <td>...</td>\n",
       "      <td>...</td>\n",
       "    </tr>\n",
       "    <tr>\n",
       "      <th>162</th>\n",
       "      <td>Prefeitura de Bertioga (SP)</td>\n",
       "      <td>100.0</td>\n",
       "      <td>2513.07</td>\n",
       "      <td>2</td>\n",
       "      <td>bertioga</td>\n",
       "      <td>são paulo</td>\n",
       "      <td>SUDESTE</td>\n",
       "    </tr>\n",
       "    <tr>\n",
       "      <th>163</th>\n",
       "      <td>Prefeitura de Palmas (TO)</td>\n",
       "      <td>50.0</td>\n",
       "      <td>3440.77</td>\n",
       "      <td>2</td>\n",
       "      <td>palmas</td>\n",
       "      <td>tocantins</td>\n",
       "      <td>NORTE</td>\n",
       "    </tr>\n",
       "    <tr>\n",
       "      <th>164</th>\n",
       "      <td>Fundação Estadual de Proteção Ambiental Henriq...</td>\n",
       "      <td>56.0</td>\n",
       "      <td>6646.96</td>\n",
       "      <td>4</td>\n",
       "      <td>várias cidades</td>\n",
       "      <td>rio grande do sul</td>\n",
       "      <td>SUL</td>\n",
       "    </tr>\n",
       "    <tr>\n",
       "      <th>165</th>\n",
       "      <td>Prefeitura de Capivari (SP)</td>\n",
       "      <td>57.0</td>\n",
       "      <td>15519.11</td>\n",
       "      <td>4</td>\n",
       "      <td>capivari</td>\n",
       "      <td>são paulo</td>\n",
       "      <td>SUDESTE</td>\n",
       "    </tr>\n",
       "    <tr>\n",
       "      <th>166</th>\n",
       "      <td>Instituto Federal do Sul de Minas</td>\n",
       "      <td>4.0</td>\n",
       "      <td>9616.18</td>\n",
       "      <td>4</td>\n",
       "      <td>pouso alegre, passos e poços de caldas</td>\n",
       "      <td>minas gerais</td>\n",
       "      <td>SUDESTE</td>\n",
       "    </tr>\n",
       "  </tbody>\n",
       "</table>\n",
       "<p>167 rows × 7 columns</p>\n",
       "</div>"
      ],
      "text/plain": [
       "                                       Instituto_Orgao  Vagas  Salario_Maximo  \\\n",
       "0                      Prefeitura de Boca do Acre (AM)  326.0         3400.00   \n",
       "1                                  Câmara de Tunápolis    1.0         1789.92   \n",
       "2                          Prefeitura de Ouroeste (SP)   31.0         2992.36   \n",
       "3                            Prefeitura de Olinda (PE)  230.0         3867.47   \n",
       "4                            Prefeitura de Olinda (PE)  230.0         3867.47   \n",
       "..                                                 ...    ...             ...   \n",
       "162                        Prefeitura de Bertioga (SP)  100.0         2513.07   \n",
       "163                          Prefeitura de Palmas (TO)   50.0         3440.77   \n",
       "164  Fundação Estadual de Proteção Ambiental Henriq...   56.0         6646.96   \n",
       "165                        Prefeitura de Capivari (SP)   57.0        15519.11   \n",
       "166                  Instituto Federal do Sul de Minas    4.0         9616.18   \n",
       "\n",
       "    Escolaridade                                  Cidade             Estado  \\\n",
       "0              4                            boca do acre           amazonas   \n",
       "1              4                               tunápolis     santa catarina   \n",
       "2              4                                ouroeste          são paulo   \n",
       "3              4                                  olinda         pernambuco   \n",
       "4              4                                  olinda         pernambuco   \n",
       "..           ...                                     ...                ...   \n",
       "162            2                                bertioga          são paulo   \n",
       "163            2                                  palmas          tocantins   \n",
       "164            4                          várias cidades  rio grande do sul   \n",
       "165            4                                capivari          são paulo   \n",
       "166            4  pouso alegre, passos e poços de caldas       minas gerais   \n",
       "\n",
       "       Regiao  \n",
       "0       NORTE  \n",
       "1         SUL  \n",
       "2     SUDESTE  \n",
       "3    NORDESTE  \n",
       "4    NORDESTE  \n",
       "..        ...  \n",
       "162   SUDESTE  \n",
       "163     NORTE  \n",
       "164       SUL  \n",
       "165   SUDESTE  \n",
       "166   SUDESTE  \n",
       "\n",
       "[167 rows x 7 columns]"
      ]
     },
     "execution_count": 15,
     "metadata": {},
     "output_type": "execute_result"
    }
   ],
   "source": [
    "esc_df"
   ]
  },
  {
   "cell_type": "code",
   "execution_count": 16,
   "id": "b0d1852f",
   "metadata": {},
   "outputs": [
    {
     "data": {
      "text/html": [
       "<div>\n",
       "<style scoped>\n",
       "    .dataframe tbody tr th:only-of-type {\n",
       "        vertical-align: middle;\n",
       "    }\n",
       "\n",
       "    .dataframe tbody tr th {\n",
       "        vertical-align: top;\n",
       "    }\n",
       "\n",
       "    .dataframe thead th {\n",
       "        text-align: right;\n",
       "    }\n",
       "</style>\n",
       "<table border=\"1\" class=\"dataframe\">\n",
       "  <thead>\n",
       "    <tr style=\"text-align: right;\">\n",
       "      <th></th>\n",
       "      <th>Vagas</th>\n",
       "      <th>Salario_Maximo</th>\n",
       "    </tr>\n",
       "  </thead>\n",
       "  <tbody>\n",
       "    <tr>\n",
       "      <th>count</th>\n",
       "      <td>167.000000</td>\n",
       "      <td>167.000000</td>\n",
       "    </tr>\n",
       "    <tr>\n",
       "      <th>mean</th>\n",
       "      <td>127.540347</td>\n",
       "      <td>7562.539281</td>\n",
       "    </tr>\n",
       "    <tr>\n",
       "      <th>std</th>\n",
       "      <td>479.851052</td>\n",
       "      <td>6470.370734</td>\n",
       "    </tr>\n",
       "    <tr>\n",
       "      <th>min</th>\n",
       "      <td>1.000000</td>\n",
       "      <td>34.420000</td>\n",
       "    </tr>\n",
       "    <tr>\n",
       "      <th>25%</th>\n",
       "      <td>10.000000</td>\n",
       "      <td>3069.365000</td>\n",
       "    </tr>\n",
       "    <tr>\n",
       "      <th>50%</th>\n",
       "      <td>32.000000</td>\n",
       "      <td>5421.050000</td>\n",
       "    </tr>\n",
       "    <tr>\n",
       "      <th>75%</th>\n",
       "      <td>115.000000</td>\n",
       "      <td>9990.000000</td>\n",
       "    </tr>\n",
       "    <tr>\n",
       "      <th>max</th>\n",
       "      <td>6000.000000</td>\n",
       "      <td>33689.110000</td>\n",
       "    </tr>\n",
       "  </tbody>\n",
       "</table>\n",
       "</div>"
      ],
      "text/plain": [
       "             Vagas  Salario_Maximo\n",
       "count   167.000000      167.000000\n",
       "mean    127.540347     7562.539281\n",
       "std     479.851052     6470.370734\n",
       "min       1.000000       34.420000\n",
       "25%      10.000000     3069.365000\n",
       "50%      32.000000     5421.050000\n",
       "75%     115.000000     9990.000000\n",
       "max    6000.000000    33689.110000"
      ]
     },
     "execution_count": 16,
     "metadata": {},
     "output_type": "execute_result"
    }
   ],
   "source": [
    "esc_df.describe()"
   ]
  },
  {
   "cell_type": "code",
   "execution_count": 31,
   "id": "db8ae231",
   "metadata": {},
   "outputs": [
    {
     "data": {
      "text/plain": [
       "<AxesSubplot:>"
      ]
     },
     "execution_count": 31,
     "metadata": {},
     "output_type": "execute_result"
    },
    {
     "data": {
      "image/png": "[encoded data removed]",
      "text/plain": [
       "<Figure size 792x792 with 1 Axes>"
      ]
     },
     "metadata": {
      "needs_background": "light"
     },
     "output_type": "display_data"
    }
   ],
   "source": [
    "vagas_1 = esc_df.groupby(['Estado'])['Vagas'].sum()\n",
    "vagas_1_pivot = esc_df.pivot_table(columns=['Estado'], values='Vagas', aggfunc='sum')\n",
    "vagas_1_pivot.drop(['todo o país', 'vários estados'], axis=1, inplace=True)\n",
    "vagas_1_pivot.plot(kind=\"bar\", subplots=False, figsize=(11, 11), legend=True, rot=0)\n"
   ]
  },
  {
   "cell_type": "code",
   "execution_count": 18,
   "id": "ae9961c3",
   "metadata": {},
   "outputs": [
    {
     "data": {
      "text/html": [
       "<div>\n",
       "<style scoped>\n",
       "    .dataframe tbody tr th:only-of-type {\n",
       "        vertical-align: middle;\n",
       "    }\n",
       "\n",
       "    .dataframe tbody tr th {\n",
       "        vertical-align: top;\n",
       "    }\n",
       "\n",
       "    .dataframe thead th {\n",
       "        text-align: right;\n",
       "    }\n",
       "</style>\n",
       "<table border=\"1\" class=\"dataframe\">\n",
       "  <thead>\n",
       "    <tr style=\"text-align: right;\">\n",
       "      <th>Estado</th>\n",
       "      <th>alagoas</th>\n",
       "      <th>amazonas</th>\n",
       "      <th>bahia</th>\n",
       "      <th>ceará</th>\n",
       "      <th>distrito federal</th>\n",
       "      <th>espírito santo</th>\n",
       "      <th>goiás</th>\n",
       "      <th>mato grosso</th>\n",
       "      <th>mato grosso do sul</th>\n",
       "      <th>minas gerais</th>\n",
       "      <th>...</th>\n",
       "      <th>pará</th>\n",
       "      <th>pernambuco</th>\n",
       "      <th>rio de janeiro</th>\n",
       "      <th>rio de janeiro e distrito federal</th>\n",
       "      <th>rio grande do norte</th>\n",
       "      <th>rio grande do sul</th>\n",
       "      <th>santa catarina</th>\n",
       "      <th>sergipe</th>\n",
       "      <th>são paulo</th>\n",
       "      <th>tocantins</th>\n",
       "    </tr>\n",
       "  </thead>\n",
       "  <tbody>\n",
       "    <tr>\n",
       "      <th>Vagas</th>\n",
       "      <td>312.0</td>\n",
       "      <td>696.0</td>\n",
       "      <td>198.0</td>\n",
       "      <td>504.0</td>\n",
       "      <td>616.0</td>\n",
       "      <td>332.0</td>\n",
       "      <td>452.0</td>\n",
       "      <td>731.0</td>\n",
       "      <td>1606.0</td>\n",
       "      <td>1684.0</td>\n",
       "      <td>...</td>\n",
       "      <td>1727.0</td>\n",
       "      <td>676.0</td>\n",
       "      <td>924.0</td>\n",
       "      <td>1.08</td>\n",
       "      <td>1.158</td>\n",
       "      <td>514.0</td>\n",
       "      <td>914.0</td>\n",
       "      <td>355.0</td>\n",
       "      <td>1107.0</td>\n",
       "      <td>50.0</td>\n",
       "    </tr>\n",
       "  </tbody>\n",
       "</table>\n",
       "<p>1 rows × 22 columns</p>\n",
       "</div>"
      ],
      "text/plain": [
       "Estado  alagoas  amazonas  bahia  ceará  distrito federal  espírito santo  \\\n",
       "Vagas     312.0     696.0  198.0  504.0             616.0           332.0   \n",
       "\n",
       "Estado  goiás  mato grosso  mato grosso do sul  minas gerais  ...    pará  \\\n",
       "Vagas   452.0        731.0              1606.0        1684.0  ...  1727.0   \n",
       "\n",
       "Estado  pernambuco  rio de janeiro  rio de janeiro e distrito federal  \\\n",
       "Vagas        676.0           924.0                               1.08   \n",
       "\n",
       "Estado  rio grande do norte  rio grande do sul  santa catarina  sergipe  \\\n",
       "Vagas                 1.158              514.0           914.0    355.0   \n",
       "\n",
       "Estado  são paulo  tocantins  \n",
       "Vagas      1107.0       50.0  \n",
       "\n",
       "[1 rows x 22 columns]"
      ]
     },
     "execution_count": 18,
     "metadata": {},
     "output_type": "execute_result"
    }
   ],
   "source": [
    "vagas_1_pivot"
   ]
  },
  {
   "cell_type": "code",
   "execution_count": null,
   "id": "54ce4ce1",
   "metadata": {},
   "outputs": [],
   "source": []
  },
  {
   "cell_type": "code",
   "execution_count": 19,
   "id": "821a7901",
   "metadata": {},
   "outputs": [
    {
     "data": {
      "text/plain": [
       "Regiao\n",
       "CENTRO-OESTE    3405.000\n",
       "NORDESTE        2391.158\n",
       "NORTE           2473.000\n",
       "SUDESTE         4047.000\n",
       "SUL             1983.000\n",
       "Name: Vagas, dtype: float64"
      ]
     },
     "execution_count": 19,
     "metadata": {},
     "output_type": "execute_result"
    }
   ],
   "source": [
    "vagas_2 = esc_df.groupby(['Regiao'])['Vagas'].sum()\n",
    "vagas_2"
   ]
  },
  {
   "cell_type": "code",
   "execution_count": 20,
   "id": "fe6981df",
   "metadata": {},
   "outputs": [
    {
     "data": {
      "text/plain": [
       "array(['NORTE', 'SUL', 'SUDESTE', 'NORDESTE', 'CENTRO-OESTE', None],\n",
       "      dtype=object)"
      ]
     },
     "execution_count": 20,
     "metadata": {},
     "output_type": "execute_result"
    }
   ],
   "source": [
    "esc_df['Regiao'].unique()"
   ]
  },
  {
   "cell_type": "code",
   "execution_count": 21,
   "id": "5241ec57",
   "metadata": {},
   "outputs": [
    {
     "data": {
      "text/plain": [
       "<AxesSubplot:>"
      ]
     },
     "execution_count": 21,
     "metadata": {},
     "output_type": "execute_result"
    },
    {
     "data": {
      "image/png": "[encoded data removed]",
      "text/plain": [
       "<Figure size 720x720 with 1 Axes>"
      ]
     },
     "metadata": {
      "needs_background": "light"
     },
     "output_type": "display_data"
    }
   ],
   "source": [
    "vagas_2_pivot = esc_df.pivot_table(columns=['Regiao'], values='Vagas', aggfunc='sum')\n",
    "vagas_2_pivot.plot(kind=\"bar\", subplots=False, figsize=(10, 10), legend=True, rot=0)"
   ]
  },
  {
   "cell_type": "code",
   "execution_count": 22,
   "id": "0d6510b2",
   "metadata": {},
   "outputs": [
    {
     "data": {
      "text/html": [
       "<div>\n",
       "<style scoped>\n",
       "    .dataframe tbody tr th:only-of-type {\n",
       "        vertical-align: middle;\n",
       "    }\n",
       "\n",
       "    .dataframe tbody tr th {\n",
       "        vertical-align: top;\n",
       "    }\n",
       "\n",
       "    .dataframe thead th {\n",
       "        text-align: right;\n",
       "    }\n",
       "</style>\n",
       "<table border=\"1\" class=\"dataframe\">\n",
       "  <thead>\n",
       "    <tr style=\"text-align: right;\">\n",
       "      <th>Regiao</th>\n",
       "      <th>CENTRO-OESTE</th>\n",
       "      <th>NORDESTE</th>\n",
       "      <th>NORTE</th>\n",
       "      <th>SUDESTE</th>\n",
       "      <th>SUL</th>\n",
       "    </tr>\n",
       "  </thead>\n",
       "  <tbody>\n",
       "    <tr>\n",
       "      <th>Vagas</th>\n",
       "      <td>3405.0</td>\n",
       "      <td>2391.158</td>\n",
       "      <td>2473.0</td>\n",
       "      <td>4047.0</td>\n",
       "      <td>1983.0</td>\n",
       "    </tr>\n",
       "  </tbody>\n",
       "</table>\n",
       "</div>"
      ],
      "text/plain": [
       "Regiao  CENTRO-OESTE  NORDESTE   NORTE  SUDESTE     SUL\n",
       "Vagas         3405.0  2391.158  2473.0   4047.0  1983.0"
      ]
     },
     "execution_count": 22,
     "metadata": {},
     "output_type": "execute_result"
    }
   ],
   "source": [
    "vagas_2_pivot"
   ]
  },
  {
   "cell_type": "code",
   "execution_count": 42,
   "id": "3f2cc886",
   "metadata": {},
   "outputs": [
    {
     "data": {
      "text/plain": [
       "Escolaridade\n",
       "1    2976.800000\n",
       "2    2444.895000\n",
       "3    3032.553333\n",
       "4    8209.893517\n",
       "5    8338.170000\n",
       "6    1192.000000\n",
       "Name: Salario_Maximo, dtype: float64"
      ]
     },
     "execution_count": 42,
     "metadata": {},
     "output_type": "execute_result"
    }
   ],
   "source": [
    "salario_1 = esc_df.groupby(['Escolaridade'])['Salario_Maximo'].mean()\n",
    "salario_1"
   ]
  },
  {
   "cell_type": "code",
   "execution_count": 43,
   "id": "e3390a1f",
   "metadata": {},
   "outputs": [
    {
     "data": {
      "text/plain": [
       "<AxesSubplot:>"
      ]
     },
     "execution_count": 43,
     "metadata": {},
     "output_type": "execute_result"
    },
    {
     "data": {
      "image/png": "[encoded data removed]",
      "text/plain": [
       "<Figure size 720x720 with 1 Axes>"
      ]
     },
     "metadata": {
      "needs_background": "light"
     },
     "output_type": "display_data"
    }
   ],
   "source": [
    "salario_1_pivot = esc_df.pivot_table(columns=['Escolaridade'], values='Salario_Maximo', aggfunc='mean')\n",
    "salario_1_pivot.plot(kind=\"bar\", subplots=False, figsize=(10, 10), legend=True, rot=0)"
   ]
  },
  {
   "cell_type": "code",
   "execution_count": null,
   "id": "5ccf4923",
   "metadata": {},
   "outputs": [],
   "source": []
  },
  {
   "cell_type": "code",
   "execution_count": null,
   "id": "ddad1a78",
   "metadata": {},
   "outputs": [],
   "source": []
  },
  {
   "cell_type": "code",
   "execution_count": null,
   "id": "388aa5f2",
   "metadata": {},
   "outputs": [],
   "source": []
  },
  {
   "cell_type": "code",
   "execution_count": 23,
   "id": "cecce98c",
   "metadata": {},
   "outputs": [],
   "source": [
    "sizes = [23.8, 16.7, 17.3, 28.3, 13.9]\n",
    "labels = 'CENTRO-OESTE', 'NORDESTE', 'NORTE', 'SUDESTE', 'SUL'\n",
    "explode = (0, 0, 0, 0.1, 0)"
   ]
  },
  {
   "cell_type": "code",
   "execution_count": 24,
   "id": "b49c0b83",
   "metadata": {},
   "outputs": [
    {
     "data": {
      "image/png": "[encoded data removed]",
      "text/plain": [
       "<Figure size 432x288 with 1 Axes>"
      ]
     },
     "metadata": {},
     "output_type": "display_data"
    }
   ],
   "source": [
    "fig1, ax1 = plt.subplots()\n",
    "ax1.pie(sizes,explode=explode, labels=labels, autopct='%1.1f%%',\n",
    "        shadow=True, startangle=90)\n",
    "ax1.axis('equal') \n",
    "\n",
    "plt.show()"
   ]
  },
  {
   "cell_type": "code",
   "execution_count": 25,
   "id": "ffa79473",
   "metadata": {},
   "outputs": [
    {
     "data": {
      "text/plain": [
       "<AxesSubplot:xlabel='Escolaridade', ylabel='Count'>"
      ]
     },
     "execution_count": 25,
     "metadata": {},
     "output_type": "execute_result"
    },
    {
     "data": {
      "image/png": "[encoded data removed]",
      "text/plain": [
       "<Figure size 432x288 with 1 Axes>"
      ]
     },
     "metadata": {
      "needs_background": "light"
     },
     "output_type": "display_data"
    }
   ],
   "source": [
    "sns.histplot(esc_df['Escolaridade'])"
   ]
  },
  {
   "cell_type": "code",
   "execution_count": 26,
   "id": "d2e6a801",
   "metadata": {},
   "outputs": [
    {
     "data": {
      "text/plain": [
       "<AxesSubplot:xlabel='Escolaridade', ylabel='Salario_Maximo'>"
      ]
     },
     "execution_count": 26,
     "metadata": {},
     "output_type": "execute_result"
    },
    {
     "data": {
      "image/png": "[encoded data removed]",
      "text/plain": [
       "<Figure size 432x288 with 1 Axes>"
      ]
     },
     "metadata": {
      "needs_background": "light"
     },
     "output_type": "display_data"
    }
   ],
   "source": [
    "sns.boxplot(y=esc_df['Salario_Maximo'], x=esc_df['Escolaridade'])"
   ]
  },
  {
   "cell_type": "code",
   "execution_count": 27,
   "id": "29f4ff18",
   "metadata": {},
   "outputs": [
    {
     "data": {
      "text/plain": [
       "[]"
      ]
     },
     "execution_count": 27,
     "metadata": {},
     "output_type": "execute_result"
    },
    {
     "data": {
      "image/png": "[encoded data removed]",
      "text/plain": [
       "<Figure size 864x864 with 1 Axes>"
      ]
     },
     "metadata": {
      "needs_background": "light"
     },
     "output_type": "display_data"
    }
   ],
   "source": [
    "plt.figure(figsize=(12, 12))\n",
    "ax = sns.boxplot(y=esc_df['Salario_Maximo'], x=esc_df['Escolaridade'], hue=esc_df['Regiao'])\n",
    "\n",
    "ax.plot()\n"
   ]
  },
  {
   "cell_type": "code",
   "execution_count": 28,
   "id": "da9f4f98",
   "metadata": {},
   "outputs": [
    {
     "data": {
      "text/plain": [
       "[]"
      ]
     },
     "execution_count": 28,
     "metadata": {},
     "output_type": "execute_result"
    },
    {
     "data": {
      "image/png": "[encoded data removed]",
      "text/plain": [
       "<Figure size 864x864 with 1 Axes>"
      ]
     },
     "metadata": {
      "needs_background": "light"
     },
     "output_type": "display_data"
    }
   ],
   "source": [
    "plt.figure(figsize=(12, 12))\n",
    "ax = sns.boxplot(y=esc_df['Salario_Maximo'], x=esc_df['Escolaridade'], hue=esc_df['Regiao'])\n",
    "ax.set(xlim=(-0.5,0.5))\n",
    "\n",
    "ax.plot()\n"
   ]
  },
  {
   "cell_type": "code",
   "execution_count": 51,
   "id": "902623cf",
   "metadata": {},
   "outputs": [],
   "source": [
    "esc_df.to_csv('df_geolocation.csv')"
   ]
  },
  {
   "cell_type": "code",
   "execution_count": null,
   "id": "537e5a5a",
   "metadata": {},
   "outputs": [],
   "source": []
  },
  {
   "cell_type": "code",
   "execution_count": null,
   "id": "675694cb",
   "metadata": {},
   "outputs": [],
   "source": []
  },
  {
   "cell_type": "code",
   "execution_count": null,
   "id": "c121ce42",
   "metadata": {},
   "outputs": [],
   "source": []
  },
  {
   "cell_type": "code",
   "execution_count": null,
   "id": "e8aa4cbf",
   "metadata": {},
   "outputs": [],
   "source": []
  },
  {
   "cell_type": "code",
   "execution_count": null,
   "id": "539bab8e",
   "metadata": {},
   "outputs": [],
   "source": []
  },
  {
   "cell_type": "code",
   "execution_count": 29,
   "id": "73183b43",
   "metadata": {},
   "outputs": [],
   "source": []
  }
 ],
 "metadata": {
  "kernelspec": {
   "display_name": "Python 3 (ipykernel)",
   "language": "python",
   "name": "python3"
  },
  "language_info": {
   "codemirror_mode": {
    "name": "ipython",
    "version": 3
   },
   "file_extension": ".py",
   "mimetype": "text/x-python",
   "name": "python",
   "nbconvert_exporter": "python",
   "pygments_lexer": "ipython3",
   "version": "3.9.12"
  }
 },
 "nbformat": 4,
 "nbformat_minor": 5
}
