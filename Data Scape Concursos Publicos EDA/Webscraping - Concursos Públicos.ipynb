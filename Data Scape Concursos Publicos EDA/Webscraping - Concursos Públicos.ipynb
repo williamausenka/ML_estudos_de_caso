{
 "cells": [
  {
   "cell_type": "code",
   "execution_count": 1,
   "id": "1f644a42",
   "metadata": {},
   "outputs": [],
   "source": [
    "from selenium import webdriver\n",
    "import pandas as pd"
   ]
  },
  {
   "cell_type": "code",
   "execution_count": 2,
   "id": "b99a1cbc",
   "metadata": {},
   "outputs": [
    {
     "name": "stderr",
     "output_type": "stream",
     "text": [
      "C:\\Users\\willi\\AppData\\Local\\Temp\\ipykernel_3296\\1292556899.py:1: DeprecationWarning: executable_path has been deprecated, please pass in a Service object\n",
      "  driver = webdriver.Chrome('C:\\webdrivers.chromedriver.exe')\n"
     ]
    }
   ],
   "source": [
    "driver = webdriver.Chrome('C:\\webdrivers.chromedriver.exe')"
   ]
  },
  {
   "cell_type": "code",
   "execution_count": 3,
   "id": "fe8393f9",
   "metadata": {},
   "outputs": [],
   "source": [
    "driver.get('https://especiais.g1.globo.com/economia/concursos-e-emprego/lista-de-concursos-publicos-e-vagas-de-emprego/?_ga=2.250917446.1596520099.1649331891-62aa1c0e-db02-49ab-2d25-88d5f3e5ce67')"
   ]
  },
  {
   "cell_type": "code",
   "execution_count": 4,
   "id": "76fc3577",
   "metadata": {},
   "outputs": [],
   "source": [
    "# //table[@data-sort-name=\"name\"]/tbody/tr/td[1]  ---->xpath\n",
    "#path para todas instituições/orgãos"
   ]
  },
  {
   "cell_type": "code",
   "execution_count": 5,
   "id": "b8fe498a",
   "metadata": {},
   "outputs": [],
   "source": [
    "institus_orgaos = driver.find_elements(\"xpath\", '//table[@data-sort-name=\"name\"]/tbody/tr/td[1]') \n",
    "#nome da instituição/orgão\n",
    "\n",
    "vagas = driver.find_elements(\"xpath\", '//table[@data-sort-name=\"name\"]/tbody/tr/td[3]')\n",
    "#quantidade de vagas\n",
    "\n",
    "salarios = driver.find_elements(\"xpath\", '//table[@data-sort-name=\"name\"]/tbody/tr/td[4]')\n",
    "#salario maximo\n",
    "\n",
    "escolaridades = driver.find_elements(\"xpath\", '//table[@data-sort-name=\"name\"]/tbody/tr/td[5]')\n",
    "#escolaridade requerida\n",
    "\n",
    "locais = driver.find_elements(\"xpath\", '//table[@data-sort-name=\"name\"]/tbody/tr/td[6]')\n",
    "#locais de trabalho - cidade\n",
    "\n",
    "estados = driver.find_elements(\"xpath\", '//table[@data-sort-name=\"name\"]/tbody/tr/td[7]')\n",
    "#estados das vagas"
   ]
  },
  {
   "cell_type": "code",
   "execution_count": 6,
   "id": "61289ef9",
   "metadata": {},
   "outputs": [],
   "source": [
    "institutos_orgaos = []\n",
    "vagas_total = []\n",
    "salarios_total = []\n",
    "escolaridades_total = []\n",
    "locais_total = []\n",
    "estados_total = []"
   ]
  },
  {
   "cell_type": "code",
   "execution_count": 7,
   "id": "262acbc9",
   "metadata": {},
   "outputs": [],
   "source": [
    "dados = [institutos_orgaos, vagas_total, salarios_total,\n",
    "        escolaridades_total, locais_total, estados_total]\n",
    "\n",
    "dados_xpath = [institus_orgaos, vagas, salarios, \n",
    "               escolaridades, locais, estados]"
   ]
  },
  {
   "cell_type": "code",
   "execution_count": 8,
   "id": "7b8f81b9",
   "metadata": {},
   "outputs": [],
   "source": [
    "def inserir_dados(lista, dados):\n",
    "    for i in range(len(dados)):\n",
    "        lista.append(dados[i].text)\n",
    "    return lista"
   ]
  },
  {
   "cell_type": "code",
   "execution_count": 9,
   "id": "1d62396f",
   "metadata": {},
   "outputs": [],
   "source": [
    "nome_institutos = inserir_dados(institutos_orgaos, institus_orgaos)\n",
    "\n",
    "n_vagas = inserir_dados(vagas_total, vagas)\n",
    "\n",
    "x_salario = inserir_dados(salarios_total, salarios)\n",
    "\n",
    "escolaridade_req = inserir_dados(escolaridades_total, escolaridades)\n",
    "\n",
    "nome_local = inserir_dados(locais_total, locais)\n",
    "\n",
    "nome_estado = inserir_dados(estados_total, estados)"
   ]
  },
  {
   "cell_type": "code",
   "execution_count": null,
   "id": "a0b2cd70",
   "metadata": {},
   "outputs": [],
   "source": []
  },
  {
   "cell_type": "code",
   "execution_count": 10,
   "id": "63dfa6f2",
   "metadata": {},
   "outputs": [],
   "source": [
    "df = pd.DataFrame({'Instituto_Orgao': nome_institutos, 'Vagas':n_vagas, 'Salario_Maximo': x_salario, 'Escolaridade': escolaridade_req,\n",
    "                  'Cidade': nome_local, 'Estado': nome_estado})"
   ]
  },
  {
   "cell_type": "code",
   "execution_count": 11,
   "id": "c7177689",
   "metadata": {},
   "outputs": [
    {
     "data": {
      "text/html": [
       "<div>\n",
       "<style scoped>\n",
       "    .dataframe tbody tr th:only-of-type {\n",
       "        vertical-align: middle;\n",
       "    }\n",
       "\n",
       "    .dataframe tbody tr th {\n",
       "        vertical-align: top;\n",
       "    }\n",
       "\n",
       "    .dataframe thead th {\n",
       "        text-align: right;\n",
       "    }\n",
       "</style>\n",
       "<table border=\"1\" class=\"dataframe\">\n",
       "  <thead>\n",
       "    <tr style=\"text-align: right;\">\n",
       "      <th></th>\n",
       "      <th>Instituto_Orgao</th>\n",
       "      <th>Vagas</th>\n",
       "      <th>Salario_Maximo</th>\n",
       "      <th>Escolaridade</th>\n",
       "      <th>Cidade</th>\n",
       "      <th>Estado</th>\n",
       "    </tr>\n",
       "  </thead>\n",
       "  <tbody>\n",
       "    <tr>\n",
       "      <th>0</th>\n",
       "      <td>Prefeitura de Boca do Acre (AM)</td>\n",
       "      <td>326</td>\n",
       "      <td>R$ 3.400,00</td>\n",
       "      <td>fundamental, médio e superior</td>\n",
       "      <td>Boca do Acre</td>\n",
       "      <td>Amazonas</td>\n",
       "    </tr>\n",
       "    <tr>\n",
       "      <th>1</th>\n",
       "      <td>Câmara de Tunápolis</td>\n",
       "      <td>1</td>\n",
       "      <td>R$ 1.789,92</td>\n",
       "      <td>superior</td>\n",
       "      <td>Tunápolis</td>\n",
       "      <td>Santa Catarina</td>\n",
       "    </tr>\n",
       "    <tr>\n",
       "      <th>2</th>\n",
       "      <td>Prefeitura de Ouroeste (SP)</td>\n",
       "      <td>31</td>\n",
       "      <td>R$ 2.992,36</td>\n",
       "      <td>fundamental, médio e superior</td>\n",
       "      <td>Ouroeste</td>\n",
       "      <td>São Paulo</td>\n",
       "    </tr>\n",
       "    <tr>\n",
       "      <th>3</th>\n",
       "      <td>Prefeitura de Olinda (PE)</td>\n",
       "      <td>230</td>\n",
       "      <td>R$ 3.867,47</td>\n",
       "      <td>superior</td>\n",
       "      <td>Olinda</td>\n",
       "      <td>Pernambuco</td>\n",
       "    </tr>\n",
       "    <tr>\n",
       "      <th>4</th>\n",
       "      <td>Prefeitura de Olinda (PE)</td>\n",
       "      <td>230</td>\n",
       "      <td>R$ 3.867,47</td>\n",
       "      <td>superior</td>\n",
       "      <td>Olinda</td>\n",
       "      <td>Pernambuco</td>\n",
       "    </tr>\n",
       "    <tr>\n",
       "      <th>...</th>\n",
       "      <td>...</td>\n",
       "      <td>...</td>\n",
       "      <td>...</td>\n",
       "      <td>...</td>\n",
       "      <td>...</td>\n",
       "      <td>...</td>\n",
       "    </tr>\n",
       "    <tr>\n",
       "      <th>166</th>\n",
       "      <td>Prefeitura de Bertioga (SP)</td>\n",
       "      <td>100</td>\n",
       "      <td>R$ 2.513,07</td>\n",
       "      <td>médio</td>\n",
       "      <td>Bertioga</td>\n",
       "      <td>São Paulo</td>\n",
       "    </tr>\n",
       "    <tr>\n",
       "      <th>167</th>\n",
       "      <td>Prefeitura de Palmas (TO)</td>\n",
       "      <td>50</td>\n",
       "      <td>R$ 3.440,77</td>\n",
       "      <td>médio</td>\n",
       "      <td>Palmas</td>\n",
       "      <td>Tocantins</td>\n",
       "    </tr>\n",
       "    <tr>\n",
       "      <th>168</th>\n",
       "      <td>Fundação Estadual de Proteção Ambiental Henriq...</td>\n",
       "      <td>56</td>\n",
       "      <td>R$ 6.646,96</td>\n",
       "      <td>médio, técnico e superior</td>\n",
       "      <td>várias cidades</td>\n",
       "      <td>Rio Grande do Sul</td>\n",
       "    </tr>\n",
       "    <tr>\n",
       "      <th>169</th>\n",
       "      <td>Prefeitura de Capivari (SP)</td>\n",
       "      <td>57</td>\n",
       "      <td>R$ 15.519,11</td>\n",
       "      <td>fundamental, médio e superior</td>\n",
       "      <td>Capivari</td>\n",
       "      <td>São Paulo</td>\n",
       "    </tr>\n",
       "    <tr>\n",
       "      <th>170</th>\n",
       "      <td>Instituto Federal do Sul de Minas</td>\n",
       "      <td>4</td>\n",
       "      <td>R$ 9.616,18</td>\n",
       "      <td>superior</td>\n",
       "      <td>Pouso Alegre, Passos e Poços de Caldas</td>\n",
       "      <td>Minas Gerais</td>\n",
       "    </tr>\n",
       "  </tbody>\n",
       "</table>\n",
       "<p>171 rows × 6 columns</p>\n",
       "</div>"
      ],
      "text/plain": [
       "                                       Instituto_Orgao Vagas Salario_Maximo  \\\n",
       "0                      Prefeitura de Boca do Acre (AM)   326    R$ 3.400,00   \n",
       "1                                  Câmara de Tunápolis     1    R$ 1.789,92   \n",
       "2                          Prefeitura de Ouroeste (SP)    31    R$ 2.992,36   \n",
       "3                            Prefeitura de Olinda (PE)   230    R$ 3.867,47   \n",
       "4                            Prefeitura de Olinda (PE)   230    R$ 3.867,47   \n",
       "..                                                 ...   ...            ...   \n",
       "166                        Prefeitura de Bertioga (SP)   100    R$ 2.513,07   \n",
       "167                          Prefeitura de Palmas (TO)    50    R$ 3.440,77   \n",
       "168  Fundação Estadual de Proteção Ambiental Henriq...    56    R$ 6.646,96   \n",
       "169                        Prefeitura de Capivari (SP)    57   R$ 15.519,11   \n",
       "170                  Instituto Federal do Sul de Minas     4    R$ 9.616,18   \n",
       "\n",
       "                      Escolaridade                                  Cidade  \\\n",
       "0    fundamental, médio e superior                            Boca do Acre   \n",
       "1                         superior                               Tunápolis   \n",
       "2    fundamental, médio e superior                                Ouroeste   \n",
       "3                         superior                                  Olinda   \n",
       "4                         superior                                  Olinda   \n",
       "..                             ...                                     ...   \n",
       "166                          médio                                Bertioga   \n",
       "167                          médio                                  Palmas   \n",
       "168      médio, técnico e superior                          várias cidades   \n",
       "169  fundamental, médio e superior                                Capivari   \n",
       "170                       superior  Pouso Alegre, Passos e Poços de Caldas   \n",
       "\n",
       "                Estado  \n",
       "0             Amazonas  \n",
       "1       Santa Catarina  \n",
       "2            São Paulo  \n",
       "3           Pernambuco  \n",
       "4           Pernambuco  \n",
       "..                 ...  \n",
       "166          São Paulo  \n",
       "167          Tocantins  \n",
       "168  Rio Grande do Sul  \n",
       "169          São Paulo  \n",
       "170       Minas Gerais  \n",
       "\n",
       "[171 rows x 6 columns]"
      ]
     },
     "execution_count": 11,
     "metadata": {},
     "output_type": "execute_result"
    }
   ],
   "source": [
    "df\n",
    "\n",
    "\n"
   ]
  },
  {
   "cell_type": "code",
   "execution_count": 12,
   "id": "489a20fd",
   "metadata": {},
   "outputs": [],
   "source": []
  },
  {
   "cell_type": "code",
   "execution_count": 13,
   "id": "1537d518",
   "metadata": {},
   "outputs": [],
   "source": [
    "df.to_csv('webscraping_concursos_publicos.csv')"
   ]
  },
  {
   "cell_type": "code",
   "execution_count": null,
   "id": "ed30b5ea",
   "metadata": {},
   "outputs": [],
   "source": []
  },
  {
   "cell_type": "code",
   "execution_count": null,
   "id": "ff7ef477",
   "metadata": {},
   "outputs": [],
   "source": []
  },
  {
   "cell_type": "code",
   "execution_count": null,
   "id": "ed637fda",
   "metadata": {},
   "outputs": [],
   "source": []
  },
  {
   "cell_type": "code",
   "execution_count": null,
   "id": "88efac21",
   "metadata": {},
   "outputs": [],
   "source": []
  },
  {
   "cell_type": "code",
   "execution_count": null,
   "id": "70700cff",
   "metadata": {},
   "outputs": [],
   "source": []
  }
 ],
 "metadata": {
  "kernelspec": {
   "display_name": "Python 3 (ipykernel)",
   "language": "python",
   "name": "python3"
  },
  "language_info": {
   "codemirror_mode": {
    "name": "ipython",
    "version": 3
   },
   "file_extension": ".py",
   "mimetype": "text/x-python",
   "name": "python",
   "nbconvert_exporter": "python",
   "pygments_lexer": "ipython3",
   "version": "3.9.12"
  }
 },
 "nbformat": 4,
 "nbformat_minor": 5
}
