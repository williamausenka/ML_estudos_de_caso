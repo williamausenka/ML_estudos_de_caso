{
 "cells": [
  {
   "cell_type": "code",
   "execution_count": 1,
   "metadata": {},
   "outputs": [],
   "source": [
    "import pandas as pd\n",
    "import openpyxl\n",
    "from openpyxl import load_workbook\n",
    "from openpyxl.styles import Font\n",
    "from openpyxl.chart import BarChart, Reference\n",
    "import string\n",
    "\n"
   ]
  },
  {
   "cell_type": "code",
   "execution_count": 11,
   "metadata": {},
   "outputs": [],
   "source": [
    "def excel_auto(file_name):\n",
    "    \n",
    "    # ler o arquivo excel\n",
    "    excel_f = pd.read_excel(file_name)\n",
    "    \n",
    "    # pivot table\n",
    "    tabela1 = excel_f.pivot_table(index='Gender', columns='Product line', values='Total', aggfunc='sum').round(0)\n",
    "    \n",
    "    # separando o nome do arquivo da sua extensao\n",
    "    mes_extensao = file_name.split('_')[1]\n",
    "    \n",
    "    # salvando o arquivo como excel\n",
    "    tabela1.to_excel(f'relatorio_{mes_extensao}', sheet_name='vendas',startrow=4)\n",
    "    \n",
    "    # load no workbook e selecionando a aba\n",
    "    wb = load_workbook(f'relatorio_{mes_extensao}')\n",
    "    sheet = wb['vendas']\n",
    "    \n",
    "    # referencia das celulas\n",
    "    min_column = wb.active.min_column\n",
    "    max_column = wb.active.max_column\n",
    "    min_row = wb.active.min_row\n",
    "    max_row = wb.active.max_row\n",
    "    \n",
    "    # adicionando o grafico de barras\n",
    "    barchart = BarChart()\n",
    "    data = Reference(sheet,\n",
    "                     min_col=min_column+1,\n",
    "                     max_col=max_column,\n",
    "                     min_row=min_row,\n",
    "                     max_row=max_row) \n",
    "    categories = Reference(sheet,\n",
    "                           min_col=min_column,\n",
    "                           max_col=min_column,\n",
    "                           min_row=min_row+1,\n",
    "                           max_row=max_row) \n",
    "    \n",
    "    # adicionando os dados e categorias\n",
    "    barchart.add_data(data, titles_from_data=True)\n",
    "    barchart.set_categories(categories)\n",
    "    \n",
    "    sheet.add_chart(barchart, \"B12\") #location chart\n",
    "    barchart.title = 'Vendas por tipo de produto'\n",
    "    barchart.style = 10  #choose the chart style\n",
    "    \n",
    "    # aplicando a formula (soma)\n",
    "    # criando o alfabeto para usar como referencia\n",
    "    \n",
    "    alphabet = list(string.ascii_uppercase)\n",
    "    excel_alphabet = alphabet[0:max_column] \n",
    "    # somatoria nas colunas B-G\n",
    "    for i in excel_alphabet:\n",
    "        if i!='A':\n",
    "            sheet[f'{i}{max_row+1}'] = f'=SUM({i}{min_row+1}:{i}{max_row})' \n",
    "            sheet[f'{i}{max_row+1}'].number_format = 'R$ #,##0.00'\n",
    "    sheet[f'{excel_alphabet[0]}{max_row+1}'] = 'Total'\n",
    "    \n",
    "    # pegando o nome do mes/ano\n",
    "    mes = mes_extensao.split('.')[0]\n",
    "    \n",
    "    # formatação do relatorio\n",
    "    sheet['A1'] = 'Relatório de Vendas'\n",
    "    sheet['A2'] = '2021'\n",
    "    sheet['A1'].font = Font('Arial', bold=True, size=20)\n",
    "    sheet['A2'].font = Font('Arial', bold=True, size=10)\n",
    "    wb.save(f'relatorio_{mes_extensao}')\n",
    "    return "
   ]
  },
  {
   "cell_type": "code",
   "execution_count": 12,
   "metadata": {},
   "outputs": [],
   "source": [
    "excel_auto('sales_2021.xlsx')"
   ]
  },
  {
   "cell_type": "code",
   "execution_count": 13,
   "metadata": {},
   "outputs": [],
   "source": [
    "excel_auto('sales_january.xlsx')\n",
    "excel_auto('sales_february.xlsx')\n",
    "excel_auto('sales_march.xlsx')"
   ]
  },
  {
   "cell_type": "code",
   "execution_count": null,
   "metadata": {},
   "outputs": [],
   "source": []
  }
 ],
 "metadata": {
  "kernelspec": {
   "display_name": "Python 3",
   "language": "python",
   "name": "python3"
  },
  "language_info": {
   "codemirror_mode": {
    "name": "ipython",
    "version": 3
   },
   "file_extension": ".py",
   "mimetype": "text/x-python",
   "name": "python",
   "nbconvert_exporter": "python",
   "pygments_lexer": "ipython3",
   "version": "3.8.5"
  }
 },
 "nbformat": 4,
 "nbformat_minor": 4
}
