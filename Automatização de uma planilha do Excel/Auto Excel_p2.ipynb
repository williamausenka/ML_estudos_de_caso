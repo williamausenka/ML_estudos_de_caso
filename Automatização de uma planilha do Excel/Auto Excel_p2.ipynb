{
 "cells": [
  {
   "cell_type": "code",
   "execution_count": 1,
   "metadata": {},
   "outputs": [],
   "source": [
    "import pandas as pd\n",
    "import openpyxl\n",
    "from openpyxl import load_workbook\n",
    "from openpyxl.styles import Font\n",
    "from openpyxl.chart import BarChart, Reference\n",
    "import string"
   ]
  },
  {
   "cell_type": "code",
   "execution_count": 4,
   "metadata": {},
   "outputs": [],
   "source": [
    "wb = load_workbook('vendas_2021.xlsx')\n",
    "sheet = wb['vendas']\n",
    "\n",
    "min_column = wb.active.min_column\n",
    "max_column = wb.active.max_column\n",
    "min_row = wb.active.min_row\n",
    "max_row = wb.active.max_row"
   ]
  },
  {
   "cell_type": "code",
   "execution_count": 14,
   "metadata": {},
   "outputs": [],
   "source": [
    "wb = load_workbook('vendas_2021.xlsx')\n",
    "sheet = wb['vendas']\n",
    "\n",
    "#gráfico de barras\n",
    "barchart = BarChart()\n",
    "\n",
    "#localizar os dados e categorias\n",
    "data = Reference(sheet,\n",
    "                 min_col=min_column+1,\n",
    "                 max_col=max_column,\n",
    "                 min_row=min_row,\n",
    "                 max_row=max_row) \n",
    "categories = Reference(sheet,\n",
    "                       min_col=min_column,\n",
    "                       max_col=min_column,\n",
    "                       min_row=min_row+1,\n",
    "                       max_row=max_row) \n",
    "# adicionando os dados e categorias\n",
    "barchart.add_data(data, titles_from_data=True)\n",
    "barchart.set_categories(categories)\n",
    "#location chart\n",
    "sheet.add_chart(barchart, \"B12\")\n",
    "barchart.title = 'Vendas por tipo de produto'\n",
    "barchart.style = 10 \n",
    "wb.save('vendas_2021.xlsx')"
   ]
  },
  {
   "cell_type": "code",
   "execution_count": 16,
   "metadata": {},
   "outputs": [
    {
     "name": "stdout",
     "output_type": "stream",
     "text": [
      "['A', 'B', 'C', 'D', 'E', 'F', 'G']\n"
     ]
    }
   ],
   "source": [
    "alphabet = list(string.ascii_uppercase)\n",
    "excel_alphabet = alphabet[0:max_column] \n",
    "print(excel_alphabet)"
   ]
  },
  {
   "cell_type": "code",
   "execution_count": null,
   "metadata": {},
   "outputs": [],
   "source": [
    "#sheet['B7'] = '=SUM(B5:B6)'\n",
    "#sheet['B7'].style = 'Currency'\n",
    "#Como fazer para colocar uma formula na planilha\n",
    "#Abaixo usando um for loop para automatizar"
   ]
  },
  {
   "cell_type": "code",
   "execution_count": 23,
   "metadata": {},
   "outputs": [],
   "source": [
    "wb2 = load_workbook('vendas_2021.xlsx')\n",
    "sheet2 = wb['vendas']\n",
    "# somar colunas B-G\n",
    "for i in excel_alphabet:\n",
    "    if i!='A': #nao contém dados numericos\n",
    "        sheet2[f'{i}{max_row+1}'] = f'=SUM({i}{min_row+1}:{i}{max_row})' #mesma coisa que sheet['B7'] = '=SUM(B5:B6)', mas para cada célula\n",
    "        sheet2[f'{i}{max_row+1}'].number_format = 'R$ #,##0.00'\n",
    "# adicionando a label 'total' na linha\n",
    "sheet[f'{excel_alphabet[0]}{max_row+1}'] = 'Total'\n",
    "wb.save('vendas_2021.xlsx')"
   ]
  },
  {
   "cell_type": "code",
   "execution_count": 27,
   "metadata": {},
   "outputs": [],
   "source": [
    "wb3 = load_workbook('vendas_2021.xlsx')\n",
    "sheet3 = wb['vendas']\n",
    "sheet3['A1'] = 'Relatório de Vendas'\n",
    "sheet3['A2'] = '2021'\n",
    "sheet3['A1'].font = Font('Arial', bold=True, size=20)\n",
    "sheet3['A2'].font = Font('Arial', bold=True, size=10)\n",
    "wb.save('vendas_2021.xlsx')"
   ]
  },
  {
   "cell_type": "code",
   "execution_count": null,
   "metadata": {},
   "outputs": [],
   "source": []
  }
 ],
 "metadata": {
  "kernelspec": {
   "display_name": "Python 3",
   "language": "python",
   "name": "python3"
  },
  "language_info": {
   "codemirror_mode": {
    "name": "ipython",
    "version": 3
   },
   "file_extension": ".py",
   "mimetype": "text/x-python",
   "name": "python",
   "nbconvert_exporter": "python",
   "pygments_lexer": "ipython3",
   "version": "3.8.5"
  }
 },
 "nbformat": 4,
 "nbformat_minor": 4
}
