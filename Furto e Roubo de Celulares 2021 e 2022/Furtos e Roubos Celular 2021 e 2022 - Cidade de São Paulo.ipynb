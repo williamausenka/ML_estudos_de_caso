{
 "cells": [
  {
   "cell_type": "code",
   "execution_count": 1,
   "id": "ddb84499",
   "metadata": {},
   "outputs": [],
   "source": [
    "import pandas as pd\n",
    "\n",
    "import matplotlib.pyplot as plt\n",
    "import seaborn as sns"
   ]
  },
  {
   "cell_type": "code",
   "execution_count": null,
   "id": "eb8025fb",
   "metadata": {},
   "outputs": [],
   "source": []
  },
  {
   "cell_type": "code",
   "execution_count": 2,
   "id": "4dc7b6a2",
   "metadata": {},
   "outputs": [],
   "source": [
    "df_furto_2021 = pd.read_excel('furto_celular_2021.xlsx')\n",
    "df_furto_2022 = pd.read_excel('furto_celular_2022.xlsx')\n",
    "\n",
    "df_roubo_2021 = pd.read_excel('roubo_celular_2021.xlsx')\n",
    "df_roubo_2022 = pd.read_excel('roubo_celular_2022.xlsx')"
   ]
  },
  {
   "cell_type": "code",
   "execution_count": 3,
   "id": "0c1b9c74",
   "metadata": {},
   "outputs": [],
   "source": [
    "df_furto_2021_sp = df_furto_2021.query('CIDADE == \"S.PAULO\"').copy()\n",
    "df_furto_2022_sp = df_furto_2022.query('CIDADE == \"S.PAULO\"').copy()\n",
    "\n",
    "df_roubo_2021_sp = df_roubo_2021.query('CIDADE == \"S.PAULO\"').copy()\n",
    "df_roubo_2022_sp = df_roubo_2022.query('CIDADE == \"S.PAULO\"').copy()\n",
    "\n"
   ]
  },
  {
   "cell_type": "code",
   "execution_count": 4,
   "id": "06e2a459",
   "metadata": {},
   "outputs": [],
   "source": [
    "def lower_str(df):\n",
    "    df = df.str.lower()\n",
    "    return df"
   ]
  },
  {
   "cell_type": "code",
   "execution_count": 5,
   "id": "8f94cfd5",
   "metadata": {},
   "outputs": [],
   "source": [
    "df_furto_2021_sp['MARCA_CELULAR'] = lower_str(df_furto_2021_sp['MARCA_CELULAR'])\n",
    "df_furto_2022_sp['MARCA_CELULAR'] = lower_str(df_furto_2022_sp['MARCA_CELULAR'])\n",
    "\n",
    "df_roubo_2021_sp['MARCA_CELULAR'] = lower_str(df_roubo_2021_sp['MARCA_CELULAR'])\n",
    "df_roubo_2022_sp['MARCA_CELULAR'] = lower_str(df_roubo_2022_sp['MARCA_CELULAR'])\n",
    "\n"
   ]
  },
  {
   "cell_type": "code",
   "execution_count": null,
   "id": "f30a4ba5",
   "metadata": {},
   "outputs": [],
   "source": []
  },
  {
   "cell_type": "code",
   "execution_count": 6,
   "id": "776f90c1",
   "metadata": {},
   "outputs": [
    {
     "data": {
      "text/plain": [
       "MARCA_CELULAR\n",
       "alcatel                    7\n",
       "apple                   1417\n",
       "asus                     142\n",
       "huawei                    17\n",
       "i phone                    1\n",
       "iphone                     1\n",
       "lenovo                     8\n",
       "lg                       338\n",
       "microsoft                  1\n",
       "motorola                1211\n",
       "multilaser                17\n",
       "nokia                      2\n",
       "outros                   148\n",
       "philco                     1\n",
       "positivo                  14\n",
       "samsung                 2321\n",
       "samsung galaxy tab a       1\n",
       "sansung                    1\n",
       "sony                       8\n",
       "xiaomi                   369\n",
       "zte                        2\n",
       "Name: NUM_BO, dtype: int64"
      ]
     },
     "execution_count": 6,
     "metadata": {},
     "output_type": "execute_result"
    }
   ],
   "source": [
    "df_furto_2021_sp.groupby(['MARCA_CELULAR'])['NUM_BO'].count()"
   ]
  },
  {
   "cell_type": "code",
   "execution_count": 7,
   "id": "5992fa42",
   "metadata": {},
   "outputs": [
    {
     "data": {
      "text/plain": [
       "<AxesSubplot:>"
      ]
     },
     "execution_count": 7,
     "metadata": {},
     "output_type": "execute_result"
    },
    {
     "data": {
      "image/png": "[encoded data removed]",
      "text/plain": [
       "<Figure size 720x720 with 1 Axes>"
      ]
     },
     "metadata": {
      "needs_background": "light"
     },
     "output_type": "display_data"
    }
   ],
   "source": [
    "df_furto_2021_pivot = df_furto_2021_sp.pivot_table(columns=['MARCA_CELULAR'], values='NUM_BO', aggfunc='count')\n",
    "\n",
    "df_furto_2021_pivot.plot(kind=\"bar\", subplots=False, figsize=(10, 10), legend=True, rot=0)"
   ]
  },
  {
   "cell_type": "code",
   "execution_count": 8,
   "id": "d96fb5e2",
   "metadata": {},
   "outputs": [
    {
     "data": {
      "text/plain": [
       "MARCA_CELULAR\n",
       "alcatel              6\n",
       "apple             2171\n",
       "asus                79\n",
       "blu                  1\n",
       "hpe                  1\n",
       "huawei               7\n",
       "iphone               5\n",
       "lenovo               4\n",
       "lg                 246\n",
       "microsoft            1\n",
       "motorola          1462\n",
       "multilaser          21\n",
       "nokia                9\n",
       "outros             187\n",
       "positivo            10\n",
       "samsung           2500\n",
       "samsung a02s         1\n",
       "samsung galaxy       1\n",
       "sansung galaxy       1\n",
       "siemens              4\n",
       "sony                 6\n",
       "xiaomi             517\n",
       "zte                  2\n",
       "Name: NUM_BO, dtype: int64"
      ]
     },
     "execution_count": 8,
     "metadata": {},
     "output_type": "execute_result"
    }
   ],
   "source": [
    "df_furto_2022_sp.groupby(['MARCA_CELULAR'])['NUM_BO'].count()"
   ]
  },
  {
   "cell_type": "code",
   "execution_count": 9,
   "id": "2bf27773",
   "metadata": {},
   "outputs": [
    {
     "data": {
      "text/plain": [
       "1.5321100917431192"
      ]
     },
     "execution_count": 9,
     "metadata": {},
     "output_type": "execute_result"
    }
   ],
   "source": [
    "2171/1417"
   ]
  },
  {
   "cell_type": "code",
   "execution_count": null,
   "id": "06173c05",
   "metadata": {},
   "outputs": [],
   "source": []
  },
  {
   "cell_type": "code",
   "execution_count": null,
   "id": "d2965e8b",
   "metadata": {},
   "outputs": [],
   "source": []
  },
  {
   "cell_type": "code",
   "execution_count": null,
   "id": "35c57dcd",
   "metadata": {},
   "outputs": [],
   "source": []
  },
  {
   "cell_type": "code",
   "execution_count": 10,
   "id": "5f2ce5e9",
   "metadata": {},
   "outputs": [
    {
     "data": {
      "text/plain": [
       "<AxesSubplot:>"
      ]
     },
     "execution_count": 10,
     "metadata": {},
     "output_type": "execute_result"
    },
    {
     "data": {
      "image/png": "[encoded data removed]",
      "text/plain": [
       "<Figure size 720x720 with 1 Axes>"
      ]
     },
     "metadata": {
      "needs_background": "light"
     },
     "output_type": "display_data"
    }
   ],
   "source": [
    "df_furto_2022_pivot = df_furto_2022_sp.pivot_table(columns=['MARCA_CELULAR'], values='NUM_BO', aggfunc='count')\n",
    "\n",
    "df_furto_2022_pivot.plot(kind=\"bar\", subplots=False, figsize=(10, 10), legend=True, rot=0)"
   ]
  },
  {
   "cell_type": "code",
   "execution_count": 11,
   "id": "151d9e28",
   "metadata": {},
   "outputs": [
    {
     "data": {
      "text/plain": [
       "PERIDOOCORRENCIA\n",
       "A NOITE            1119\n",
       "A TARDE            1030\n",
       "DE MADRUGADA        274\n",
       "EM HORA INCERTA    3034\n",
       "PELA MANHÃ          838\n",
       "Name: NUM_BO, dtype: int64"
      ]
     },
     "execution_count": 11,
     "metadata": {},
     "output_type": "execute_result"
    }
   ],
   "source": [
    "df_furto_2021_sp.groupby(['PERIDOOCORRENCIA'])['NUM_BO'].count()"
   ]
  },
  {
   "cell_type": "code",
   "execution_count": 12,
   "id": "dec1b380",
   "metadata": {},
   "outputs": [
    {
     "data": {
      "text/plain": [
       "<AxesSubplot:>"
      ]
     },
     "execution_count": 12,
     "metadata": {},
     "output_type": "execute_result"
    },
    {
     "data": {
      "image/png": "[encoded data removed]",
      "text/plain": [
       "<Figure size 720x720 with 1 Axes>"
      ]
     },
     "metadata": {
      "needs_background": "light"
     },
     "output_type": "display_data"
    }
   ],
   "source": [
    "df_furto_2021_periodo_pivot = df_furto_2021_sp.pivot_table(columns=['PERIDOOCORRENCIA'], values='NUM_BO', aggfunc='count')\n",
    "df_furto_2021_periodo_pivot.plot(kind=\"bar\", subplots=False, figsize=(10, 10), legend=True, rot=0)"
   ]
  },
  {
   "cell_type": "code",
   "execution_count": 13,
   "id": "10461283",
   "metadata": {},
   "outputs": [
    {
     "data": {
      "text/plain": [
       "PERIDOOCORRENCIA\n",
       "A NOITE             809\n",
       "A TARDE             866\n",
       "DE MADRUGADA        281\n",
       "EM HORA INCERTA    4782\n",
       "PELA MANHÃ          739\n",
       "Name: NUM_BO, dtype: int64"
      ]
     },
     "execution_count": 13,
     "metadata": {},
     "output_type": "execute_result"
    }
   ],
   "source": [
    "df_furto_2022_sp.groupby(['PERIDOOCORRENCIA'])['NUM_BO'].count()"
   ]
  },
  {
   "cell_type": "code",
   "execution_count": 14,
   "id": "83676683",
   "metadata": {},
   "outputs": [
    {
     "data": {
      "text/plain": [
       "<AxesSubplot:>"
      ]
     },
     "execution_count": 14,
     "metadata": {},
     "output_type": "execute_result"
    },
    {
     "data": {
      "image/png": "[encoded data removed]",
      "text/plain": [
       "<Figure size 720x720 with 1 Axes>"
      ]
     },
     "metadata": {
      "needs_background": "light"
     },
     "output_type": "display_data"
    }
   ],
   "source": [
    "df_furto_2022_periodo_pivot = df_furto_2022_sp.pivot_table(columns=['PERIDOOCORRENCIA'], values='NUM_BO', aggfunc='count')\n",
    "df_furto_2022_periodo_pivot.plot(kind=\"bar\", subplots=False, figsize=(10, 10), legend=True, rot=0)"
   ]
  },
  {
   "cell_type": "code",
   "execution_count": null,
   "id": "e0468c6b",
   "metadata": {},
   "outputs": [],
   "source": []
  },
  {
   "cell_type": "code",
   "execution_count": null,
   "id": "64dfb032",
   "metadata": {},
   "outputs": [],
   "source": []
  },
  {
   "cell_type": "code",
   "execution_count": 15,
   "id": "3fa585d9",
   "metadata": {},
   "outputs": [],
   "source": [
    "#comparação furto\n",
    "n_bos_2021_f = 6295\n",
    "n_bos_2022_f = 7477"
   ]
  },
  {
   "cell_type": "code",
   "execution_count": null,
   "id": "6409fd73",
   "metadata": {},
   "outputs": [],
   "source": []
  },
  {
   "cell_type": "code",
   "execution_count": 16,
   "id": "08ec425c",
   "metadata": {},
   "outputs": [
    {
     "name": "stdout",
     "output_type": "stream",
     "text": [
      "1.1877680698967434\n"
     ]
    }
   ],
   "source": [
    "porcentagem_aumento_furto = n_bos_2022_f/n_bos_2021_f\n",
    "\n",
    "print(porcentagem_aumento_furto)\n",
    "#aumento de 18,77% nos furtos"
   ]
  },
  {
   "cell_type": "code",
   "execution_count": 17,
   "id": "f82671c5",
   "metadata": {},
   "outputs": [],
   "source": [
    "######################################################################################################"
   ]
  },
  {
   "cell_type": "code",
   "execution_count": 18,
   "id": "78c61871",
   "metadata": {},
   "outputs": [
    {
     "data": {
      "text/plain": [
       "MARCA_CELULAR\n",
       "alcatel            4\n",
       "apple           1715\n",
       "asus             203\n",
       "huawei             5\n",
       "lenovo            14\n",
       "lg               569\n",
       "microsoft          1\n",
       "motorola        2291\n",
       "multilaser        41\n",
       "nokia              6\n",
       "outros           141\n",
       "positivo          15\n",
       "samsung         3923\n",
       "sansung a 50       1\n",
       "siemens            1\n",
       "sony               5\n",
       "xiaomi           442\n",
       "Name: NUM_BO, dtype: int64"
      ]
     },
     "execution_count": 18,
     "metadata": {},
     "output_type": "execute_result"
    }
   ],
   "source": [
    "df_roubo_2021_sp.groupby(['MARCA_CELULAR'])['NUM_BO'].count()"
   ]
  },
  {
   "cell_type": "code",
   "execution_count": 19,
   "id": "7c69b867",
   "metadata": {},
   "outputs": [
    {
     "data": {
      "text/plain": [
       "<AxesSubplot:>"
      ]
     },
     "execution_count": 19,
     "metadata": {},
     "output_type": "execute_result"
    },
    {
     "data": {
      "image/png": "[encoded data removed]",
      "text/plain": [
       "<Figure size 720x720 with 1 Axes>"
      ]
     },
     "metadata": {
      "needs_background": "light"
     },
     "output_type": "display_data"
    }
   ],
   "source": [
    "df_roubo_2021_pivot = df_roubo_2021_sp.pivot_table(columns=['MARCA_CELULAR'], values='NUM_BO', aggfunc='count')\n",
    "\n",
    "df_roubo_2021_pivot.plot(kind=\"bar\", subplots=False, figsize=(10, 10), legend=True, rot=0)"
   ]
  },
  {
   "cell_type": "code",
   "execution_count": 20,
   "id": "66f4c0ca",
   "metadata": {},
   "outputs": [
    {
     "data": {
      "text/plain": [
       "MARCA_CELULAR\n",
       "alcatel         10\n",
       "apple         2325\n",
       "asus           133\n",
       "blu              2\n",
       "hpe              1\n",
       "huawei          11\n",
       "lenovo           7\n",
       "lg             432\n",
       "microsoft        2\n",
       "motorola      2486\n",
       "motorolla        2\n",
       "multilaser      20\n",
       "nokia           24\n",
       "outros         234\n",
       "positivo        45\n",
       "samsung       3801\n",
       "siemens          5\n",
       "sony             4\n",
       "xiaomi         752\n",
       "zte              2\n",
       "Name: NUM_BO, dtype: int64"
      ]
     },
     "execution_count": 20,
     "metadata": {},
     "output_type": "execute_result"
    }
   ],
   "source": [
    "df_roubo_2022_sp.groupby(['MARCA_CELULAR'])['NUM_BO'].count()"
   ]
  },
  {
   "cell_type": "code",
   "execution_count": 21,
   "id": "07635849",
   "metadata": {},
   "outputs": [
    {
     "data": {
      "text/plain": [
       "1.3556851311953353"
      ]
     },
     "execution_count": 21,
     "metadata": {},
     "output_type": "execute_result"
    }
   ],
   "source": [
    "2325/1715"
   ]
  },
  {
   "cell_type": "code",
   "execution_count": 22,
   "id": "a95574e5",
   "metadata": {},
   "outputs": [
    {
     "data": {
      "text/plain": [
       "<AxesSubplot:>"
      ]
     },
     "execution_count": 22,
     "metadata": {},
     "output_type": "execute_result"
    },
    {
     "data": {
      "image/png": "[encoded data removed]",
      "text/plain": [
       "<Figure size 720x720 with 1 Axes>"
      ]
     },
     "metadata": {
      "needs_background": "light"
     },
     "output_type": "display_data"
    }
   ],
   "source": [
    "df_roubo_2022_pivot = df_roubo_2022_sp.pivot_table(columns=['MARCA_CELULAR'], values='NUM_BO', aggfunc='count')\n",
    "\n",
    "df_roubo_2022_pivot.plot(kind=\"bar\", subplots=False, figsize=(10, 10), legend=True, rot=0)"
   ]
  },
  {
   "cell_type": "code",
   "execution_count": 23,
   "id": "2a074ad8",
   "metadata": {},
   "outputs": [
    {
     "data": {
      "text/plain": [
       "PERIDOOCORRENCIA\n",
       "A NOITE            4446\n",
       "A TARDE            1701\n",
       "DE MADRUGADA       1447\n",
       "EM HORA INCERTA      90\n",
       "PELA MANHÃ         1855\n",
       "Name: NUM_BO, dtype: int64"
      ]
     },
     "execution_count": 23,
     "metadata": {},
     "output_type": "execute_result"
    }
   ],
   "source": [
    "df_roubo_2021_sp.groupby(['PERIDOOCORRENCIA'])['NUM_BO'].count()"
   ]
  },
  {
   "cell_type": "code",
   "execution_count": 24,
   "id": "bc31bc7c",
   "metadata": {},
   "outputs": [
    {
     "data": {
      "text/plain": [
       "<AxesSubplot:>"
      ]
     },
     "execution_count": 24,
     "metadata": {},
     "output_type": "execute_result"
    },
    {
     "data": {
      "image/png": "[encoded data removed]",
      "text/plain": [
       "<Figure size 720x720 with 1 Axes>"
      ]
     },
     "metadata": {
      "needs_background": "light"
     },
     "output_type": "display_data"
    }
   ],
   "source": [
    "df_roubo_2021_periodo_pivot = df_roubo_2021_sp.pivot_table(columns=['PERIDOOCORRENCIA'], values='NUM_BO', aggfunc='count')\n",
    "df_roubo_2021_periodo_pivot.plot(kind=\"bar\", subplots=False, figsize=(10, 10), legend=True, rot=0)"
   ]
  },
  {
   "cell_type": "code",
   "execution_count": 25,
   "id": "3aa4c0bf",
   "metadata": {},
   "outputs": [
    {
     "data": {
      "text/plain": [
       "PERIDOOCORRENCIA\n",
       "A NOITE            4222\n",
       "A TARDE            1942\n",
       "DE MADRUGADA       1777\n",
       "EM HORA INCERTA     505\n",
       "PELA MANHÃ         2024\n",
       "Name: NUM_BO, dtype: int64"
      ]
     },
     "execution_count": 25,
     "metadata": {},
     "output_type": "execute_result"
    }
   ],
   "source": [
    "df_roubo_2022_sp.groupby(['PERIDOOCORRENCIA'])['NUM_BO'].count()"
   ]
  },
  {
   "cell_type": "code",
   "execution_count": 26,
   "id": "ad2da4ab",
   "metadata": {},
   "outputs": [
    {
     "data": {
      "text/plain": [
       "<AxesSubplot:>"
      ]
     },
     "execution_count": 26,
     "metadata": {},
     "output_type": "execute_result"
    },
    {
     "data": {
      "image/png": "[encoded data removed]",
      "text/plain": [
       "<Figure size 720x720 with 1 Axes>"
      ]
     },
     "metadata": {
      "needs_background": "light"
     },
     "output_type": "display_data"
    }
   ],
   "source": [
    "df_roubo_2022_periodo_pivot = df_roubo_2022_sp.pivot_table(columns=['PERIDOOCORRENCIA'], values='NUM_BO', aggfunc='count')\n",
    "df_roubo_2022_periodo_pivot.plot(kind=\"bar\", subplots=False, figsize=(10, 10), legend=True, rot=0)"
   ]
  },
  {
   "cell_type": "code",
   "execution_count": null,
   "id": "6bfb510d",
   "metadata": {},
   "outputs": [],
   "source": []
  },
  {
   "cell_type": "code",
   "execution_count": null,
   "id": "995aa07d",
   "metadata": {},
   "outputs": [],
   "source": []
  },
  {
   "cell_type": "code",
   "execution_count": 27,
   "id": "c77925dc",
   "metadata": {},
   "outputs": [
    {
     "data": {
      "text/html": [
       "<div>\n",
       "<style scoped>\n",
       "    .dataframe tbody tr th:only-of-type {\n",
       "        vertical-align: middle;\n",
       "    }\n",
       "\n",
       "    .dataframe tbody tr th {\n",
       "        vertical-align: top;\n",
       "    }\n",
       "\n",
       "    .dataframe thead th {\n",
       "        text-align: right;\n",
       "    }\n",
       "</style>\n",
       "<table border=\"1\" class=\"dataframe\">\n",
       "  <thead>\n",
       "    <tr style=\"text-align: right;\">\n",
       "      <th>PERIDOOCORRENCIA</th>\n",
       "      <th>A NOITE</th>\n",
       "      <th>A TARDE</th>\n",
       "      <th>DE MADRUGADA</th>\n",
       "      <th>EM HORA INCERTA</th>\n",
       "      <th>PELA MANHÃ</th>\n",
       "    </tr>\n",
       "  </thead>\n",
       "  <tbody>\n",
       "    <tr>\n",
       "      <th>NUM_BO</th>\n",
       "      <td>4446</td>\n",
       "      <td>1701</td>\n",
       "      <td>1447</td>\n",
       "      <td>90</td>\n",
       "      <td>1855</td>\n",
       "    </tr>\n",
       "  </tbody>\n",
       "</table>\n",
       "</div>"
      ],
      "text/plain": [
       "PERIDOOCORRENCIA  A NOITE  A TARDE  DE MADRUGADA  EM HORA INCERTA  PELA MANHÃ\n",
       "NUM_BO               4446     1701          1447               90        1855"
      ]
     },
     "execution_count": 27,
     "metadata": {},
     "output_type": "execute_result"
    }
   ],
   "source": [
    "df_roubo_2021_periodo_pivot"
   ]
  },
  {
   "cell_type": "code",
   "execution_count": 28,
   "id": "cfbe2dc8",
   "metadata": {},
   "outputs": [
    {
     "data": {
      "text/html": [
       "<div>\n",
       "<style scoped>\n",
       "    .dataframe tbody tr th:only-of-type {\n",
       "        vertical-align: middle;\n",
       "    }\n",
       "\n",
       "    .dataframe tbody tr th {\n",
       "        vertical-align: top;\n",
       "    }\n",
       "\n",
       "    .dataframe thead th {\n",
       "        text-align: right;\n",
       "    }\n",
       "</style>\n",
       "<table border=\"1\" class=\"dataframe\">\n",
       "  <thead>\n",
       "    <tr style=\"text-align: right;\">\n",
       "      <th>PERIDOOCORRENCIA</th>\n",
       "      <th>A NOITE</th>\n",
       "      <th>A TARDE</th>\n",
       "      <th>DE MADRUGADA</th>\n",
       "      <th>EM HORA INCERTA</th>\n",
       "      <th>PELA MANHÃ</th>\n",
       "    </tr>\n",
       "  </thead>\n",
       "  <tbody>\n",
       "    <tr>\n",
       "      <th>NUM_BO</th>\n",
       "      <td>4222</td>\n",
       "      <td>1942</td>\n",
       "      <td>1777</td>\n",
       "      <td>505</td>\n",
       "      <td>2024</td>\n",
       "    </tr>\n",
       "  </tbody>\n",
       "</table>\n",
       "</div>"
      ],
      "text/plain": [
       "PERIDOOCORRENCIA  A NOITE  A TARDE  DE MADRUGADA  EM HORA INCERTA  PELA MANHÃ\n",
       "NUM_BO               4222     1942          1777              505        2024"
      ]
     },
     "execution_count": 28,
     "metadata": {},
     "output_type": "execute_result"
    }
   ],
   "source": [
    "df_roubo_2022_periodo_pivot"
   ]
  },
  {
   "cell_type": "code",
   "execution_count": 29,
   "id": "a450e89b",
   "metadata": {},
   "outputs": [],
   "source": [
    "df_roubos_all = pd.concat([df_roubo_2021_periodo_pivot, df_roubo_2022_periodo_pivot])"
   ]
  },
  {
   "cell_type": "code",
   "execution_count": 30,
   "id": "d8f07ce0",
   "metadata": {},
   "outputs": [
    {
     "data": {
      "text/html": [
       "<div>\n",
       "<style scoped>\n",
       "    .dataframe tbody tr th:only-of-type {\n",
       "        vertical-align: middle;\n",
       "    }\n",
       "\n",
       "    .dataframe tbody tr th {\n",
       "        vertical-align: top;\n",
       "    }\n",
       "\n",
       "    .dataframe thead th {\n",
       "        text-align: right;\n",
       "    }\n",
       "</style>\n",
       "<table border=\"1\" class=\"dataframe\">\n",
       "  <thead>\n",
       "    <tr style=\"text-align: right;\">\n",
       "      <th>PERIDOOCORRENCIA</th>\n",
       "      <th>A NOITE</th>\n",
       "      <th>A TARDE</th>\n",
       "      <th>DE MADRUGADA</th>\n",
       "      <th>EM HORA INCERTA</th>\n",
       "      <th>PELA MANHÃ</th>\n",
       "    </tr>\n",
       "  </thead>\n",
       "  <tbody>\n",
       "    <tr>\n",
       "      <th>NUM_BO</th>\n",
       "      <td>4446</td>\n",
       "      <td>1701</td>\n",
       "      <td>1447</td>\n",
       "      <td>90</td>\n",
       "      <td>1855</td>\n",
       "    </tr>\n",
       "    <tr>\n",
       "      <th>NUM_BO</th>\n",
       "      <td>4222</td>\n",
       "      <td>1942</td>\n",
       "      <td>1777</td>\n",
       "      <td>505</td>\n",
       "      <td>2024</td>\n",
       "    </tr>\n",
       "  </tbody>\n",
       "</table>\n",
       "</div>"
      ],
      "text/plain": [
       "PERIDOOCORRENCIA  A NOITE  A TARDE  DE MADRUGADA  EM HORA INCERTA  PELA MANHÃ\n",
       "NUM_BO               4446     1701          1447               90        1855\n",
       "NUM_BO               4222     1942          1777              505        2024"
      ]
     },
     "execution_count": 30,
     "metadata": {},
     "output_type": "execute_result"
    }
   ],
   "source": [
    "df_roubos_all"
   ]
  },
  {
   "cell_type": "code",
   "execution_count": 31,
   "id": "03fbe01e",
   "metadata": {},
   "outputs": [],
   "source": [
    "df_roubos_all.set_axis(['2021', '2022'], axis='index', inplace=True)"
   ]
  },
  {
   "cell_type": "code",
   "execution_count": 32,
   "id": "5b80d57c",
   "metadata": {},
   "outputs": [
    {
     "data": {
      "text/plain": [
       "<AxesSubplot:>"
      ]
     },
     "execution_count": 32,
     "metadata": {},
     "output_type": "execute_result"
    },
    {
     "data": {
      "image/png": "[encoded data removed]",
      "text/plain": [
       "<Figure size 720x720 with 1 Axes>"
      ]
     },
     "metadata": {
      "needs_background": "light"
     },
     "output_type": "display_data"
    }
   ],
   "source": [
    "df_roubos_all.plot(kind=\"bar\", subplots=False, figsize=(10, 10), legend=True, rot=0)"
   ]
  },
  {
   "cell_type": "code",
   "execution_count": null,
   "id": "216a2aad",
   "metadata": {},
   "outputs": [],
   "source": []
  },
  {
   "cell_type": "code",
   "execution_count": null,
   "id": "4fcf2f97",
   "metadata": {},
   "outputs": [],
   "source": []
  },
  {
   "cell_type": "code",
   "execution_count": 33,
   "id": "343f3d9a",
   "metadata": {},
   "outputs": [],
   "source": [
    "#comparação roubos\n",
    "n_bos_2021_r = 9539\n",
    "n_bos_2022_r = 10470 "
   ]
  },
  {
   "cell_type": "code",
   "execution_count": 34,
   "id": "d999e532",
   "metadata": {},
   "outputs": [
    {
     "name": "stdout",
     "output_type": "stream",
     "text": [
      "1.0975993290701331\n"
     ]
    }
   ],
   "source": [
    "porcentagem_aumento_roubo = n_bos_2022_r/n_bos_2021_r\n",
    "\n",
    "print(porcentagem_aumento_roubo)\n",
    "#aumento ~ 10 % nos roubos"
   ]
  },
  {
   "cell_type": "code",
   "execution_count": 35,
   "id": "49a3ab3e",
   "metadata": {},
   "outputs": [],
   "source": [
    "porc_furto = round((porcentagem_aumento_furto-1)*100,2)"
   ]
  },
  {
   "cell_type": "code",
   "execution_count": 36,
   "id": "399d0bc7",
   "metadata": {},
   "outputs": [],
   "source": [
    "porc_roubo = round((porcentagem_aumento_roubo-1)*100,2)"
   ]
  },
  {
   "cell_type": "code",
   "execution_count": null,
   "id": "495c9c8d",
   "metadata": {},
   "outputs": [],
   "source": []
  },
  {
   "cell_type": "code",
   "execution_count": 37,
   "id": "f3813337",
   "metadata": {},
   "outputs": [],
   "source": [
    "porce_df = pd.DataFrame({'Aumento_Furto': porc_furto, 'Aumento_Roubo':porc_roubo}, index=[0])"
   ]
  },
  {
   "cell_type": "code",
   "execution_count": 38,
   "id": "d934688e",
   "metadata": {},
   "outputs": [
    {
     "data": {
      "text/html": [
       "<div>\n",
       "<style scoped>\n",
       "    .dataframe tbody tr th:only-of-type {\n",
       "        vertical-align: middle;\n",
       "    }\n",
       "\n",
       "    .dataframe tbody tr th {\n",
       "        vertical-align: top;\n",
       "    }\n",
       "\n",
       "    .dataframe thead th {\n",
       "        text-align: right;\n",
       "    }\n",
       "</style>\n",
       "<table border=\"1\" class=\"dataframe\">\n",
       "  <thead>\n",
       "    <tr style=\"text-align: right;\">\n",
       "      <th></th>\n",
       "      <th>Aumento_Furto</th>\n",
       "      <th>Aumento_Roubo</th>\n",
       "    </tr>\n",
       "  </thead>\n",
       "  <tbody>\n",
       "    <tr>\n",
       "      <th>0</th>\n",
       "      <td>18.78</td>\n",
       "      <td>9.76</td>\n",
       "    </tr>\n",
       "  </tbody>\n",
       "</table>\n",
       "</div>"
      ],
      "text/plain": [
       "   Aumento_Furto  Aumento_Roubo\n",
       "0          18.78           9.76"
      ]
     },
     "execution_count": 38,
     "metadata": {},
     "output_type": "execute_result"
    }
   ],
   "source": [
    "porce_df"
   ]
  },
  {
   "cell_type": "code",
   "execution_count": 39,
   "id": "e3ef270c",
   "metadata": {},
   "outputs": [
    {
     "data": {
      "text/plain": [
       "<AxesSubplot:>"
      ]
     },
     "execution_count": 39,
     "metadata": {},
     "output_type": "execute_result"
    },
    {
     "data": {
      "image/png": "[encoded data removed]",
      "text/plain": [
       "<Figure size 720x720 with 1 Axes>"
      ]
     },
     "metadata": {
      "needs_background": "light"
     },
     "output_type": "display_data"
    }
   ],
   "source": [
    "porce_df.plot(kind=\"bar\", subplots=False, figsize=(10, 10), legend=True, rot=0)"
   ]
  },
  {
   "cell_type": "code",
   "execution_count": null,
   "id": "263fa2c7",
   "metadata": {},
   "outputs": [],
   "source": []
  }
 ],
 "metadata": {
  "kernelspec": {
   "display_name": "Python 3 (ipykernel)",
   "language": "python",
   "name": "python3"
  },
  "language_info": {
   "codemirror_mode": {
    "name": "ipython",
    "version": 3
   },
   "file_extension": ".py",
   "mimetype": "text/x-python",
   "name": "python",
   "nbconvert_exporter": "python",
   "pygments_lexer": "ipython3",
   "version": "3.9.12"
  }
 },
 "nbformat": 4,
 "nbformat_minor": 5
}
