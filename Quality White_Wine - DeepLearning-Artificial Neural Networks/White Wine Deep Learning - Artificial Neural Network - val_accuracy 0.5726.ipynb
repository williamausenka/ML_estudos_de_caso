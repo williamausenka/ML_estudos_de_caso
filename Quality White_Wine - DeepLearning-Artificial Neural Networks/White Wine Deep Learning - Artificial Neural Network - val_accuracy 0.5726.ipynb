{
 "cells": [
  {
   "cell_type": "code",
   "execution_count": 1,
   "metadata": {},
   "outputs": [],
   "source": [
    "import numpy as np\n",
    "import tensorflow as tf\n",
    "import pandas as pd\n",
    "import seaborn as sns\n",
    "import matplotlib.pyplot as plt\n"
   ]
  },
  {
   "cell_type": "code",
   "execution_count": 2,
   "metadata": {},
   "outputs": [],
   "source": [
    "npz= np.load('white_wine_train.npz')\n",
    "train_inputs = npz['inputs'].astype(np.float)\n",
    "train_targets = npz['targets'].astype(np.int)"
   ]
  },
  {
   "cell_type": "markdown",
   "metadata": {},
   "source": [
    "\n"
   ]
  },
  {
   "cell_type": "code",
   "execution_count": 3,
   "metadata": {},
   "outputs": [],
   "source": [
    "npz= np.load('white_wine_validation.npz')\n",
    "validation_inputs = npz['inputs'].astype(np.float)\n",
    "validation_targets = npz['targets'].astype(np.int)"
   ]
  },
  {
   "cell_type": "code",
   "execution_count": 4,
   "metadata": {},
   "outputs": [],
   "source": [
    "npz = np.load('white_wine_test.npz')\n",
    "test_inputs = npz['inputs'].astype(np.float)\n",
    "test_targets = npz['targets'].astype(np.int)"
   ]
  },
  {
   "cell_type": "code",
   "execution_count": 5,
   "metadata": {},
   "outputs": [],
   "source": [
    "inputs = 11\n",
    "output = 10\n",
    "\n",
    "hidden_layer_size = 50\n",
    "model = tf.keras.Sequential([\n",
    "    tf.keras.layers.Dense(hidden_layer_size,activation='relu'),\n",
    "    #tf.keras.layers.Dropout(0.2),\n",
    "    tf.keras.layers.Dense(hidden_layer_size,activation='relu'),\n",
    "    tf.keras.layers.Dropout(0.2),\n",
    "    #tf.keras.layers.Dense(hidden_layer_size,activation='relu'),\n",
    "    #tf.keras.layers.Dropout(0.2),\n",
    "    tf.keras.layers.Dense(hidden_layer_size,activation='relu'),\n",
    "    tf.keras.layers.Dropout(0.2),\n",
    "    #tf.keras.layers.Dropout(0.2),\n",
    "    tf.keras.layers.Dense(output,activation='softmax')\n",
    "])"
   ]
  },
  {
   "cell_type": "code",
   "execution_count": 6,
   "metadata": {},
   "outputs": [],
   "source": [
    "model.compile(optimizer='adam', loss='sparse_categorical_crossentropy', metrics=['accuracy'])"
   ]
  },
  {
   "cell_type": "code",
   "execution_count": 7,
   "metadata": {},
   "outputs": [],
   "source": [
    "batch_size=100\n",
    "max_epochs=50"
   ]
  },
  {
   "cell_type": "code",
   "execution_count": 8,
   "metadata": {},
   "outputs": [],
   "source": [
    "early_stopping = tf.keras.callbacks.EarlyStopping(patience=2)"
   ]
  },
  {
   "cell_type": "code",
   "execution_count": 9,
   "metadata": {},
   "outputs": [
    {
     "name": "stdout",
     "output_type": "stream",
     "text": [
      "Epoch 1/50\n",
      "40/40 - 2s - loss: 1.9225 - accuracy: 0.3045 - val_loss: 1.4044 - val_accuracy: 0.4724\n",
      "Epoch 2/50\n",
      "40/40 - 0s - loss: 1.3418 - accuracy: 0.4735 - val_loss: 1.2112 - val_accuracy: 0.5174\n",
      "Epoch 3/50\n",
      "40/40 - 0s - loss: 1.2208 - accuracy: 0.5166 - val_loss: 1.1558 - val_accuracy: 0.5521\n",
      "Epoch 4/50\n",
      "40/40 - 0s - loss: 1.1801 - accuracy: 0.5245 - val_loss: 1.1320 - val_accuracy: 0.5562\n",
      "Epoch 5/50\n",
      "40/40 - 0s - loss: 1.1650 - accuracy: 0.5222 - val_loss: 1.1157 - val_accuracy: 0.5624\n",
      "Epoch 6/50\n",
      "40/40 - 0s - loss: 1.1313 - accuracy: 0.5324 - val_loss: 1.1016 - val_accuracy: 0.5521\n",
      "Epoch 7/50\n",
      "40/40 - 0s - loss: 1.1271 - accuracy: 0.5314 - val_loss: 1.0890 - val_accuracy: 0.5562\n",
      "Epoch 8/50\n",
      "40/40 - 0s - loss: 1.1095 - accuracy: 0.5477 - val_loss: 1.0778 - val_accuracy: 0.5603\n",
      "Epoch 9/50\n",
      "40/40 - 0s - loss: 1.1018 - accuracy: 0.5419 - val_loss: 1.0733 - val_accuracy: 0.5501\n",
      "Epoch 10/50\n",
      "40/40 - 0s - loss: 1.0913 - accuracy: 0.5444 - val_loss: 1.0607 - val_accuracy: 0.5583\n",
      "Epoch 11/50\n",
      "40/40 - 0s - loss: 1.0857 - accuracy: 0.5429 - val_loss: 1.0542 - val_accuracy: 0.5706\n",
      "Epoch 12/50\n",
      "40/40 - 0s - loss: 1.0864 - accuracy: 0.5421 - val_loss: 1.0441 - val_accuracy: 0.5726\n",
      "Epoch 13/50\n",
      "40/40 - 0s - loss: 1.0687 - accuracy: 0.5398 - val_loss: 1.0405 - val_accuracy: 0.5665\n",
      "Epoch 14/50\n",
      "40/40 - 0s - loss: 1.0657 - accuracy: 0.5401 - val_loss: 1.0314 - val_accuracy: 0.5542\n",
      "Epoch 15/50\n",
      "40/40 - 0s - loss: 1.0577 - accuracy: 0.5477 - val_loss: 1.0254 - val_accuracy: 0.5501\n",
      "Epoch 16/50\n",
      "40/40 - 0s - loss: 1.0540 - accuracy: 0.5564 - val_loss: 1.0204 - val_accuracy: 0.5706\n",
      "Epoch 17/50\n",
      "40/40 - 0s - loss: 1.0468 - accuracy: 0.5539 - val_loss: 1.0173 - val_accuracy: 0.5624\n",
      "Epoch 18/50\n",
      "40/40 - 0s - loss: 1.0430 - accuracy: 0.5503 - val_loss: 1.0101 - val_accuracy: 0.5603\n",
      "Epoch 19/50\n",
      "40/40 - 0s - loss: 1.0333 - accuracy: 0.5567 - val_loss: 1.0080 - val_accuracy: 0.5501\n",
      "Epoch 20/50\n",
      "40/40 - 0s - loss: 1.0343 - accuracy: 0.5549 - val_loss: 1.0067 - val_accuracy: 0.5706\n",
      "Epoch 21/50\n",
      "40/40 - 0s - loss: 1.0275 - accuracy: 0.5684 - val_loss: 1.0009 - val_accuracy: 0.5542\n",
      "Epoch 22/50\n",
      "40/40 - 0s - loss: 1.0138 - accuracy: 0.5704 - val_loss: 1.0002 - val_accuracy: 0.5542\n",
      "Epoch 23/50\n",
      "40/40 - 0s - loss: 1.0202 - accuracy: 0.5625 - val_loss: 0.9976 - val_accuracy: 0.5501\n",
      "Epoch 24/50\n",
      "40/40 - 0s - loss: 1.0170 - accuracy: 0.5641 - val_loss: 0.9954 - val_accuracy: 0.5603\n",
      "Epoch 25/50\n",
      "40/40 - 0s - loss: 1.0133 - accuracy: 0.5679 - val_loss: 0.9885 - val_accuracy: 0.5542\n",
      "Epoch 26/50\n",
      "40/40 - 0s - loss: 1.0081 - accuracy: 0.5710 - val_loss: 0.9869 - val_accuracy: 0.5521\n",
      "Epoch 27/50\n",
      "40/40 - 0s - loss: 1.0057 - accuracy: 0.5725 - val_loss: 0.9875 - val_accuracy: 0.5481\n",
      "Epoch 28/50\n",
      "40/40 - 0s - loss: 0.9921 - accuracy: 0.5730 - val_loss: 0.9813 - val_accuracy: 0.5685\n",
      "Epoch 29/50\n",
      "40/40 - 0s - loss: 0.9962 - accuracy: 0.5776 - val_loss: 0.9827 - val_accuracy: 0.5726\n",
      "Epoch 30/50\n",
      "40/40 - 0s - loss: 0.9898 - accuracy: 0.5722 - val_loss: 0.9798 - val_accuracy: 0.5726\n",
      "Epoch 31/50\n",
      "40/40 - 0s - loss: 0.9782 - accuracy: 0.5804 - val_loss: 0.9756 - val_accuracy: 0.5706\n",
      "Epoch 32/50\n",
      "40/40 - 0s - loss: 0.9850 - accuracy: 0.5814 - val_loss: 0.9789 - val_accuracy: 0.5624\n",
      "Epoch 33/50\n",
      "40/40 - 0s - loss: 0.9778 - accuracy: 0.5796 - val_loss: 0.9740 - val_accuracy: 0.5726\n",
      "Epoch 34/50\n",
      "40/40 - 0s - loss: 0.9787 - accuracy: 0.5814 - val_loss: 0.9749 - val_accuracy: 0.5542\n",
      "Epoch 35/50\n",
      "40/40 - 0s - loss: 0.9902 - accuracy: 0.5812 - val_loss: 0.9727 - val_accuracy: 0.5706\n",
      "Epoch 36/50\n",
      "40/40 - 0s - loss: 0.9704 - accuracy: 0.5865 - val_loss: 0.9723 - val_accuracy: 0.5685\n",
      "Epoch 37/50\n",
      "40/40 - 0s - loss: 0.9767 - accuracy: 0.5845 - val_loss: 0.9741 - val_accuracy: 0.5706\n",
      "Epoch 38/50\n",
      "40/40 - 0s - loss: 0.9643 - accuracy: 0.5870 - val_loss: 0.9749 - val_accuracy: 0.5726\n"
     ]
    },
    {
     "data": {
      "text/plain": [
       "<tensorflow.python.keras.callbacks.History at 0x1e4f249d8e0>"
      ]
     },
     "execution_count": 9,
     "metadata": {},
     "output_type": "execute_result"
    }
   ],
   "source": [
    "model.fit(train_inputs,\n",
    "          train_targets,\n",
    "          batch_size=batch_size,\n",
    "          epochs=max_epochs,\n",
    "          callbacks=[early_stopping],\n",
    "          validation_data=(validation_inputs, validation_targets),\n",
    "          verbose=2\n",
    ")"
   ]
  },
  {
   "cell_type": "code",
   "execution_count": 10,
   "metadata": {},
   "outputs": [
    {
     "name": "stdout",
     "output_type": "stream",
     "text": [
      "16/16 [==============================] - 0s 665us/step - loss: 1.0327 - accuracy: 0.5804\n"
     ]
    }
   ],
   "source": [
    "test_loss, test_accuracy = model.evaluate(test_inputs,test_targets)"
   ]
  },
  {
   "cell_type": "code",
   "execution_count": 11,
   "metadata": {},
   "outputs": [
    {
     "name": "stdout",
     "output_type": "stream",
     "text": [
      "\n",
      "Test loss: 1.03. Test accuracy: 58.04%\n"
     ]
    }
   ],
   "source": [
    "print('\\nTest loss: {0:.2f}. Test accuracy: {1:.2f}%'.format(test_loss,test_accuracy*100.00))"
   ]
  },
  {
   "cell_type": "code",
   "execution_count": null,
   "metadata": {},
   "outputs": [],
   "source": []
  },
  {
   "cell_type": "code",
   "execution_count": null,
   "metadata": {},
   "outputs": [],
   "source": []
  },
  {
   "cell_type": "code",
   "execution_count": null,
   "metadata": {},
   "outputs": [],
   "source": []
  },
  {
   "cell_type": "code",
   "execution_count": null,
   "metadata": {},
   "outputs": [],
   "source": []
  },
  {
   "cell_type": "code",
   "execution_count": null,
   "metadata": {},
   "outputs": [],
   "source": []
  },
  {
   "cell_type": "code",
   "execution_count": null,
   "metadata": {},
   "outputs": [],
   "source": []
  },
  {
   "cell_type": "code",
   "execution_count": null,
   "metadata": {},
   "outputs": [],
   "source": []
  },
  {
   "cell_type": "code",
   "execution_count": null,
   "metadata": {},
   "outputs": [],
   "source": []
  },
  {
   "cell_type": "code",
   "execution_count": null,
   "metadata": {},
   "outputs": [],
   "source": []
  },
  {
   "cell_type": "code",
   "execution_count": null,
   "metadata": {},
   "outputs": [],
   "source": []
  }
 ],
 "metadata": {
  "kernelspec": {
   "display_name": "Python [conda env:py3-TF2.0]",
   "language": "python",
   "name": "conda-env-py3-TF2.0-py"
  },
  "language_info": {
   "codemirror_mode": {
    "name": "ipython",
    "version": 3
   },
   "file_extension": ".py",
   "mimetype": "text/x-python",
   "name": "python",
   "nbconvert_exporter": "python",
   "pygments_lexer": "ipython3",
   "version": "3.8.8"
  }
 },
 "nbformat": 4,
 "nbformat_minor": 2
}
