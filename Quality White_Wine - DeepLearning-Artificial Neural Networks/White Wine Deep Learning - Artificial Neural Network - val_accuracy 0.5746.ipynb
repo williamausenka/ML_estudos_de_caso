{
 "cells": [
  {
   "cell_type": "code",
   "execution_count": 1,
   "metadata": {},
   "outputs": [],
   "source": [
    "import numpy as np\n",
    "import tensorflow as tf\n",
    "import pandas as pd\n",
    "import seaborn as sns\n",
    "import matplotlib.pyplot as plt\n"
   ]
  },
  {
   "cell_type": "code",
   "execution_count": 2,
   "metadata": {},
   "outputs": [],
   "source": [
    "npz= np.load('white_wine_train.npz')\n",
    "train_inputs = npz['inputs'].astype(np.float)\n",
    "train_targets = npz['targets'].astype(np.int)"
   ]
  },
  {
   "cell_type": "markdown",
   "metadata": {},
   "source": [
    "\n"
   ]
  },
  {
   "cell_type": "code",
   "execution_count": 3,
   "metadata": {},
   "outputs": [],
   "source": [
    "npz= np.load('white_wine_validation.npz')\n",
    "validation_inputs = npz['inputs'].astype(np.float)\n",
    "validation_targets = npz['targets'].astype(np.int)"
   ]
  },
  {
   "cell_type": "code",
   "execution_count": 4,
   "metadata": {},
   "outputs": [],
   "source": [
    "npz = np.load('white_wine_test.npz')\n",
    "test_inputs = npz['inputs'].astype(np.float)\n",
    "test_targets = npz['targets'].astype(np.int)"
   ]
  },
  {
   "cell_type": "code",
   "execution_count": 5,
   "metadata": {},
   "outputs": [],
   "source": [
    "inputs = 11\n",
    "output = 10\n",
    "\n",
    "hidden_layer_size = 50\n",
    "model = tf.keras.Sequential([\n",
    "    tf.keras.layers.Dense(hidden_layer_size,activation='relu'),\n",
    "    tf.keras.layers.Dropout(0.2),\n",
    "    tf.keras.layers.Dense(hidden_layer_size,activation='relu'),\n",
    "    tf.keras.layers.Dropout(0.2),\n",
    "    #tf.keras.layers.Dense(hidden_layer_size,activation='relu'),\n",
    "    #tf.keras.layers.Dropout(0.2),\n",
    "    tf.keras.layers.Dense(hidden_layer_size,activation='relu'),\n",
    "    tf.keras.layers.Dropout(0.2),\n",
    "    #tf.keras.layers.Dropout(0.2),\n",
    "    tf.keras.layers.Dense(output,activation='softmax')\n",
    "])"
   ]
  },
  {
   "cell_type": "code",
   "execution_count": 6,
   "metadata": {},
   "outputs": [],
   "source": [
    "model.compile(optimizer='adam', loss='sparse_categorical_crossentropy', metrics=['accuracy'])"
   ]
  },
  {
   "cell_type": "code",
   "execution_count": 7,
   "metadata": {},
   "outputs": [],
   "source": [
    "batch_size=100\n",
    "max_epochs=50"
   ]
  },
  {
   "cell_type": "code",
   "execution_count": 8,
   "metadata": {},
   "outputs": [],
   "source": [
    "early_stopping = tf.keras.callbacks.EarlyStopping(patience=2)"
   ]
  },
  {
   "cell_type": "code",
   "execution_count": 9,
   "metadata": {},
   "outputs": [
    {
     "name": "stdout",
     "output_type": "stream",
     "text": [
      "Epoch 1/50\n",
      "40/40 - 2s - loss: 1.9462 - accuracy: 0.3956 - val_loss: 1.4814 - val_accuracy: 0.4560\n",
      "Epoch 2/50\n",
      "40/40 - 0s - loss: 1.3899 - accuracy: 0.4597 - val_loss: 1.2336 - val_accuracy: 0.5010\n",
      "Epoch 3/50\n",
      "40/40 - 0s - loss: 1.2726 - accuracy: 0.4750 - val_loss: 1.1936 - val_accuracy: 0.5419\n",
      "Epoch 4/50\n",
      "40/40 - 0s - loss: 1.2401 - accuracy: 0.4821 - val_loss: 1.1654 - val_accuracy: 0.5378\n",
      "Epoch 5/50\n",
      "40/40 - 0s - loss: 1.2214 - accuracy: 0.4936 - val_loss: 1.1484 - val_accuracy: 0.5481\n",
      "Epoch 6/50\n",
      "40/40 - 0s - loss: 1.1842 - accuracy: 0.5056 - val_loss: 1.1289 - val_accuracy: 0.5440\n",
      "Epoch 7/50\n",
      "40/40 - 0s - loss: 1.1655 - accuracy: 0.5171 - val_loss: 1.1134 - val_accuracy: 0.5317\n",
      "Epoch 8/50\n",
      "40/40 - 0s - loss: 1.1543 - accuracy: 0.5194 - val_loss: 1.1009 - val_accuracy: 0.5440\n",
      "Epoch 9/50\n",
      "40/40 - 0s - loss: 1.1438 - accuracy: 0.5248 - val_loss: 1.0876 - val_accuracy: 0.5481\n",
      "Epoch 10/50\n",
      "40/40 - 0s - loss: 1.1392 - accuracy: 0.5225 - val_loss: 1.0892 - val_accuracy: 0.5481\n",
      "Epoch 11/50\n",
      "40/40 - 0s - loss: 1.1252 - accuracy: 0.5324 - val_loss: 1.0766 - val_accuracy: 0.5481\n",
      "Epoch 12/50\n",
      "40/40 - 0s - loss: 1.1021 - accuracy: 0.5350 - val_loss: 1.0663 - val_accuracy: 0.5481\n",
      "Epoch 13/50\n",
      "40/40 - 0s - loss: 1.1075 - accuracy: 0.5260 - val_loss: 1.0694 - val_accuracy: 0.5481\n",
      "Epoch 14/50\n",
      "40/40 - 0s - loss: 1.1140 - accuracy: 0.5322 - val_loss: 1.0637 - val_accuracy: 0.5562\n",
      "Epoch 15/50\n",
      "40/40 - 0s - loss: 1.0979 - accuracy: 0.5288 - val_loss: 1.0539 - val_accuracy: 0.5562\n",
      "Epoch 16/50\n",
      "40/40 - 0s - loss: 1.0944 - accuracy: 0.5401 - val_loss: 1.0551 - val_accuracy: 0.5460\n",
      "Epoch 17/50\n",
      "40/40 - 0s - loss: 1.0887 - accuracy: 0.5465 - val_loss: 1.0424 - val_accuracy: 0.5542\n",
      "Epoch 18/50\n",
      "40/40 - 0s - loss: 1.0891 - accuracy: 0.5457 - val_loss: 1.0383 - val_accuracy: 0.5706\n",
      "Epoch 19/50\n",
      "40/40 - 0s - loss: 1.0848 - accuracy: 0.5442 - val_loss: 1.0364 - val_accuracy: 0.5562\n",
      "Epoch 20/50\n",
      "40/40 - 0s - loss: 1.0769 - accuracy: 0.5444 - val_loss: 1.0400 - val_accuracy: 0.5562\n",
      "Epoch 21/50\n",
      "40/40 - 0s - loss: 1.0816 - accuracy: 0.5370 - val_loss: 1.0309 - val_accuracy: 0.5603\n",
      "Epoch 22/50\n",
      "40/40 - 0s - loss: 1.0726 - accuracy: 0.5577 - val_loss: 1.0319 - val_accuracy: 0.5562\n",
      "Epoch 23/50\n",
      "40/40 - 0s - loss: 1.0665 - accuracy: 0.5429 - val_loss: 1.0293 - val_accuracy: 0.5521\n",
      "Epoch 24/50\n",
      "40/40 - 0s - loss: 1.0697 - accuracy: 0.5434 - val_loss: 1.0269 - val_accuracy: 0.5521\n",
      "Epoch 25/50\n",
      "40/40 - 0s - loss: 1.0611 - accuracy: 0.5380 - val_loss: 1.0228 - val_accuracy: 0.5501\n",
      "Epoch 26/50\n",
      "40/40 - 0s - loss: 1.0533 - accuracy: 0.5541 - val_loss: 1.0186 - val_accuracy: 0.5562\n",
      "Epoch 27/50\n",
      "40/40 - 0s - loss: 1.0595 - accuracy: 0.5531 - val_loss: 1.0109 - val_accuracy: 0.5746\n",
      "Epoch 28/50\n",
      "40/40 - 0s - loss: 1.0580 - accuracy: 0.5477 - val_loss: 1.0106 - val_accuracy: 0.5685\n",
      "Epoch 29/50\n",
      "40/40 - 0s - loss: 1.0575 - accuracy: 0.5470 - val_loss: 1.0074 - val_accuracy: 0.5665\n",
      "Epoch 30/50\n",
      "40/40 - 0s - loss: 1.0446 - accuracy: 0.5630 - val_loss: 1.0045 - val_accuracy: 0.5665\n",
      "Epoch 31/50\n",
      "40/40 - 0s - loss: 1.0496 - accuracy: 0.5638 - val_loss: 1.0022 - val_accuracy: 0.5562\n",
      "Epoch 32/50\n",
      "40/40 - 0s - loss: 1.0431 - accuracy: 0.5516 - val_loss: 1.0039 - val_accuracy: 0.5521\n",
      "Epoch 33/50\n",
      "40/40 - 0s - loss: 1.0517 - accuracy: 0.5510 - val_loss: 1.0004 - val_accuracy: 0.5481\n",
      "Epoch 34/50\n",
      "40/40 - 0s - loss: 1.0491 - accuracy: 0.5564 - val_loss: 0.9998 - val_accuracy: 0.5624\n",
      "Epoch 35/50\n",
      "40/40 - 0s - loss: 1.0439 - accuracy: 0.5628 - val_loss: 0.9976 - val_accuracy: 0.5603\n",
      "Epoch 36/50\n",
      "40/40 - 0s - loss: 1.0323 - accuracy: 0.5531 - val_loss: 0.9941 - val_accuracy: 0.5665\n",
      "Epoch 37/50\n",
      "40/40 - 0s - loss: 1.0350 - accuracy: 0.5546 - val_loss: 0.9923 - val_accuracy: 0.5644\n",
      "Epoch 38/50\n",
      "40/40 - 0s - loss: 1.0371 - accuracy: 0.5495 - val_loss: 0.9943 - val_accuracy: 0.5521\n",
      "Epoch 39/50\n",
      "40/40 - 0s - loss: 1.0261 - accuracy: 0.5633 - val_loss: 0.9898 - val_accuracy: 0.5583\n",
      "Epoch 40/50\n",
      "40/40 - 0s - loss: 1.0310 - accuracy: 0.5618 - val_loss: 0.9919 - val_accuracy: 0.5603\n",
      "Epoch 41/50\n",
      "40/40 - 0s - loss: 1.0292 - accuracy: 0.5623 - val_loss: 0.9858 - val_accuracy: 0.5624\n",
      "Epoch 42/50\n",
      "40/40 - 0s - loss: 1.0357 - accuracy: 0.5625 - val_loss: 0.9872 - val_accuracy: 0.5583\n",
      "Epoch 43/50\n",
      "40/40 - 0s - loss: 1.0277 - accuracy: 0.5574 - val_loss: 0.9851 - val_accuracy: 0.5521\n",
      "Epoch 44/50\n",
      "40/40 - 0s - loss: 1.0238 - accuracy: 0.5607 - val_loss: 0.9874 - val_accuracy: 0.5603\n",
      "Epoch 45/50\n",
      "40/40 - 0s - loss: 1.0133 - accuracy: 0.5738 - val_loss: 0.9844 - val_accuracy: 0.5521\n",
      "Epoch 46/50\n",
      "40/40 - 0s - loss: 1.0230 - accuracy: 0.5569 - val_loss: 0.9883 - val_accuracy: 0.5542\n",
      "Epoch 47/50\n",
      "40/40 - 0s - loss: 1.0094 - accuracy: 0.5623 - val_loss: 0.9804 - val_accuracy: 0.5624\n",
      "Epoch 48/50\n",
      "40/40 - 0s - loss: 1.0170 - accuracy: 0.5572 - val_loss: 0.9839 - val_accuracy: 0.5603\n",
      "Epoch 49/50\n",
      "40/40 - 0s - loss: 1.0162 - accuracy: 0.5651 - val_loss: 0.9772 - val_accuracy: 0.5583\n",
      "Epoch 50/50\n",
      "40/40 - 0s - loss: 1.0109 - accuracy: 0.5720 - val_loss: 0.9807 - val_accuracy: 0.5746\n"
     ]
    },
    {
     "data": {
      "text/plain": [
       "<tensorflow.python.keras.callbacks.History at 0x236680cda60>"
      ]
     },
     "execution_count": 9,
     "metadata": {},
     "output_type": "execute_result"
    }
   ],
   "source": [
    "model.fit(train_inputs,\n",
    "          train_targets,\n",
    "          batch_size=batch_size,\n",
    "          epochs=max_epochs,\n",
    "          callbacks=[early_stopping],\n",
    "          validation_data=(validation_inputs, validation_targets),\n",
    "          verbose=2\n",
    ")"
   ]
  },
  {
   "cell_type": "code",
   "execution_count": 10,
   "metadata": {},
   "outputs": [
    {
     "name": "stdout",
     "output_type": "stream",
     "text": [
      "16/16 [==============================] - 0s 798us/step - loss: 1.0335 - accuracy: 0.5601\n"
     ]
    }
   ],
   "source": [
    "test_loss, test_accuracy = model.evaluate(test_inputs,test_targets)"
   ]
  },
  {
   "cell_type": "code",
   "execution_count": 11,
   "metadata": {},
   "outputs": [
    {
     "name": "stdout",
     "output_type": "stream",
     "text": [
      "\n",
      "Test loss: 1.03. Test accuracy: 56.01%\n"
     ]
    }
   ],
   "source": [
    "print('\\nTest loss: {0:.2f}. Test accuracy: {1:.2f}%'.format(test_loss,test_accuracy*100.00))"
   ]
  },
  {
   "cell_type": "code",
   "execution_count": null,
   "metadata": {},
   "outputs": [],
   "source": []
  },
  {
   "cell_type": "code",
   "execution_count": null,
   "metadata": {},
   "outputs": [],
   "source": []
  },
  {
   "cell_type": "code",
   "execution_count": null,
   "metadata": {},
   "outputs": [],
   "source": []
  },
  {
   "cell_type": "code",
   "execution_count": null,
   "metadata": {},
   "outputs": [],
   "source": []
  },
  {
   "cell_type": "code",
   "execution_count": null,
   "metadata": {},
   "outputs": [],
   "source": []
  },
  {
   "cell_type": "code",
   "execution_count": null,
   "metadata": {},
   "outputs": [],
   "source": []
  },
  {
   "cell_type": "code",
   "execution_count": null,
   "metadata": {},
   "outputs": [],
   "source": []
  },
  {
   "cell_type": "code",
   "execution_count": null,
   "metadata": {},
   "outputs": [],
   "source": []
  },
  {
   "cell_type": "code",
   "execution_count": null,
   "metadata": {},
   "outputs": [],
   "source": []
  },
  {
   "cell_type": "code",
   "execution_count": null,
   "metadata": {},
   "outputs": [],
   "source": []
  }
 ],
 "metadata": {
  "kernelspec": {
   "display_name": "Python [conda env:py3-TF2.0]",
   "language": "python",
   "name": "conda-env-py3-TF2.0-py"
  },
  "language_info": {
   "codemirror_mode": {
    "name": "ipython",
    "version": 3
   },
   "file_extension": ".py",
   "mimetype": "text/x-python",
   "name": "python",
   "nbconvert_exporter": "python",
   "pygments_lexer": "ipython3",
   "version": "3.8.8"
  }
 },
 "nbformat": 4,
 "nbformat_minor": 2
}
