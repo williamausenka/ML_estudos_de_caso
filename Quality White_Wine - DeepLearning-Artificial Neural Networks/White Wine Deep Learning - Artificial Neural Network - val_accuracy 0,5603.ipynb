{
 "cells": [
  {
   "cell_type": "code",
   "execution_count": 1,
   "metadata": {},
   "outputs": [],
   "source": [
    "import numpy as np\n",
    "import tensorflow as tf\n",
    "import pandas as pd\n",
    "import seaborn as sns\n",
    "import matplotlib.pyplot as plt\n"
   ]
  },
  {
   "cell_type": "code",
   "execution_count": 2,
   "metadata": {},
   "outputs": [],
   "source": [
    "npz= np.load('white_wine_train.npz')\n",
    "train_inputs = npz['inputs'].astype(np.float)\n",
    "train_targets = npz['targets'].astype(np.int)"
   ]
  },
  {
   "cell_type": "markdown",
   "metadata": {},
   "source": [
    "\n"
   ]
  },
  {
   "cell_type": "code",
   "execution_count": 3,
   "metadata": {},
   "outputs": [],
   "source": [
    "npz= np.load('white_wine_validation.npz')\n",
    "validation_inputs = npz['inputs'].astype(np.float)\n",
    "validation_targets = npz['targets'].astype(np.int)"
   ]
  },
  {
   "cell_type": "code",
   "execution_count": 4,
   "metadata": {},
   "outputs": [],
   "source": [
    "npz = np.load('white_wine_test.npz')\n",
    "test_inputs = npz['inputs'].astype(np.float)\n",
    "test_targets = npz['targets'].astype(np.int)"
   ]
  },
  {
   "cell_type": "code",
   "execution_count": 5,
   "metadata": {},
   "outputs": [],
   "source": [
    "inputs = 11\n",
    "output = 10\n",
    "\n",
    "hidden_layer_size = 100\n",
    "model = tf.keras.Sequential([\n",
    "    tf.keras.layers.Dense(hidden_layer_size,activation='relu'),\n",
    "    #tf.keras.layers.Dropout(0.2),\n",
    "    tf.keras.layers.Dense(hidden_layer_size,activation='relu'),\n",
    "    #tf.keras.layers.Dropout(0.2),\n",
    "    #tf.keras.layers.Dense(hidden_layer_size,activation='relu'),\n",
    "    #tf.keras.layers.Dropout(0.2),\n",
    "    #tf.keras.layers.Dense(hidden_layer_size,activation='relu'),\n",
    "    #tf.keras.layers.Dropout(0.2),\n",
    "    #tf.keras.layers.Dropout(0.2),\n",
    "    tf.keras.layers.Dense(output,activation='softmax')\n",
    "])"
   ]
  },
  {
   "cell_type": "code",
   "execution_count": 6,
   "metadata": {},
   "outputs": [],
   "source": [
    "model.compile(optimizer='adam', loss='sparse_categorical_crossentropy', metrics=['accuracy'])"
   ]
  },
  {
   "cell_type": "code",
   "execution_count": 7,
   "metadata": {},
   "outputs": [],
   "source": [
    "batch_size=100\n",
    "max_epochs=50"
   ]
  },
  {
   "cell_type": "code",
   "execution_count": 8,
   "metadata": {},
   "outputs": [],
   "source": [
    "early_stopping = tf.keras.callbacks.EarlyStopping(patience=2)"
   ]
  },
  {
   "cell_type": "code",
   "execution_count": 9,
   "metadata": {},
   "outputs": [
    {
     "name": "stdout",
     "output_type": "stream",
     "text": [
      "Epoch 1/50\n",
      "40/40 - 2s - loss: 1.6116 - accuracy: 0.4298 - val_loss: 1.2482 - val_accuracy: 0.5297\n",
      "Epoch 2/50\n",
      "40/40 - 0s - loss: 1.1913 - accuracy: 0.5311 - val_loss: 1.1574 - val_accuracy: 0.5521\n",
      "Epoch 3/50\n",
      "40/40 - 0s - loss: 1.1188 - accuracy: 0.5482 - val_loss: 1.1169 - val_accuracy: 0.5542\n",
      "Epoch 4/50\n",
      "40/40 - 0s - loss: 1.0893 - accuracy: 0.5493 - val_loss: 1.0981 - val_accuracy: 0.5460\n",
      "Epoch 5/50\n",
      "40/40 - 0s - loss: 1.0695 - accuracy: 0.5625 - val_loss: 1.0747 - val_accuracy: 0.5603\n",
      "Epoch 6/50\n",
      "40/40 - 0s - loss: 1.0562 - accuracy: 0.5630 - val_loss: 1.0626 - val_accuracy: 0.5440\n",
      "Epoch 7/50\n",
      "40/40 - 0s - loss: 1.0461 - accuracy: 0.5602 - val_loss: 1.0629 - val_accuracy: 0.5521\n",
      "Epoch 8/50\n",
      "40/40 - 0s - loss: 1.0308 - accuracy: 0.5707 - val_loss: 1.0450 - val_accuracy: 0.5521\n",
      "Epoch 9/50\n",
      "40/40 - 0s - loss: 1.0196 - accuracy: 0.5750 - val_loss: 1.0381 - val_accuracy: 0.5521\n",
      "Epoch 10/50\n",
      "40/40 - 0s - loss: 1.0131 - accuracy: 0.5817 - val_loss: 1.0269 - val_accuracy: 0.5521\n",
      "Epoch 11/50\n",
      "40/40 - 0s - loss: 1.0068 - accuracy: 0.5758 - val_loss: 1.0272 - val_accuracy: 0.5583\n",
      "Epoch 12/50\n",
      "40/40 - 0s - loss: 0.9969 - accuracy: 0.5804 - val_loss: 1.0117 - val_accuracy: 0.5562\n",
      "Epoch 13/50\n",
      "40/40 - 0s - loss: 0.9904 - accuracy: 0.5865 - val_loss: 1.0094 - val_accuracy: 0.5603\n",
      "Epoch 14/50\n",
      "40/40 - 0s - loss: 0.9841 - accuracy: 0.5807 - val_loss: 1.0040 - val_accuracy: 0.5583\n",
      "Epoch 15/50\n",
      "40/40 - 0s - loss: 0.9791 - accuracy: 0.5858 - val_loss: 0.9972 - val_accuracy: 0.5706\n",
      "Epoch 16/50\n",
      "40/40 - 0s - loss: 0.9694 - accuracy: 0.5819 - val_loss: 1.0001 - val_accuracy: 0.5562\n",
      "Epoch 17/50\n",
      "40/40 - 0s - loss: 0.9638 - accuracy: 0.5898 - val_loss: 0.9976 - val_accuracy: 0.5603\n"
     ]
    },
    {
     "data": {
      "text/plain": [
       "<tensorflow.python.keras.callbacks.History at 0x1e7947123a0>"
      ]
     },
     "execution_count": 9,
     "metadata": {},
     "output_type": "execute_result"
    }
   ],
   "source": [
    "model.fit(train_inputs,\n",
    "          train_targets,\n",
    "          batch_size=batch_size,\n",
    "          epochs=max_epochs,\n",
    "          callbacks=[early_stopping],\n",
    "          validation_data=(validation_inputs, validation_targets),\n",
    "          verbose=2\n",
    ")"
   ]
  },
  {
   "cell_type": "code",
   "execution_count": 10,
   "metadata": {},
   "outputs": [
    {
     "name": "stdout",
     "output_type": "stream",
     "text": [
      "16/16 [==============================] - 0s 665us/step - loss: 1.0380 - accuracy: 0.5662\n"
     ]
    }
   ],
   "source": [
    "test_loss, test_accuracy = model.evaluate(test_inputs,test_targets)"
   ]
  },
  {
   "cell_type": "code",
   "execution_count": 11,
   "metadata": {},
   "outputs": [
    {
     "name": "stdout",
     "output_type": "stream",
     "text": [
      "\n",
      "Test loss: 1.04. Test accuracy: 56.62%\n"
     ]
    }
   ],
   "source": [
    "print('\\nTest loss: {0:.2f}. Test accuracy: {1:.2f}%'.format(test_loss,test_accuracy*100.00))"
   ]
  },
  {
   "cell_type": "code",
   "execution_count": null,
   "metadata": {},
   "outputs": [],
   "source": []
  },
  {
   "cell_type": "code",
   "execution_count": null,
   "metadata": {},
   "outputs": [],
   "source": []
  },
  {
   "cell_type": "code",
   "execution_count": null,
   "metadata": {},
   "outputs": [],
   "source": []
  },
  {
   "cell_type": "code",
   "execution_count": null,
   "metadata": {},
   "outputs": [],
   "source": []
  },
  {
   "cell_type": "code",
   "execution_count": null,
   "metadata": {},
   "outputs": [],
   "source": []
  },
  {
   "cell_type": "code",
   "execution_count": null,
   "metadata": {},
   "outputs": [],
   "source": []
  },
  {
   "cell_type": "code",
   "execution_count": null,
   "metadata": {},
   "outputs": [],
   "source": []
  },
  {
   "cell_type": "code",
   "execution_count": null,
   "metadata": {},
   "outputs": [],
   "source": []
  },
  {
   "cell_type": "code",
   "execution_count": null,
   "metadata": {},
   "outputs": [],
   "source": []
  },
  {
   "cell_type": "code",
   "execution_count": null,
   "metadata": {},
   "outputs": [],
   "source": []
  }
 ],
 "metadata": {
  "kernelspec": {
   "display_name": "Python [conda env:py3-TF2.0]",
   "language": "python",
   "name": "conda-env-py3-TF2.0-py"
  },
  "language_info": {
   "codemirror_mode": {
    "name": "ipython",
    "version": 3
   },
   "file_extension": ".py",
   "mimetype": "text/x-python",
   "name": "python",
   "nbconvert_exporter": "python",
   "pygments_lexer": "ipython3",
   "version": "3.8.8"
  }
 },
 "nbformat": 4,
 "nbformat_minor": 2
}
